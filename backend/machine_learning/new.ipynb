{
 "cells": [
  {
   "cell_type": "code",
   "execution_count": 1,
   "outputs": [],
   "source": [
    "import json\n",
    "import datetime\n",
    "\n",
    "import requests\n",
    "import pandas as pd\n",
    "import geopandas as gpd\n",
    "import matplotlib.pyplot as plt\n",
    "import shapely\n",
    "from statsmodels.tsa.arima.model import ARIMA\n",
    "from statsmodels.tsa.statespace.sarimax import SARIMAX\n",
    "from statsmodels.graphics.tsaplots import plot_pacf, plot_acf\n",
    "import numpy as np"
   ],
   "metadata": {
    "collapsed": false
   }
  },
  {
   "cell_type": "code",
   "execution_count": 2,
   "metadata": {
    "collapsed": true
   },
   "outputs": [
    {
     "data": {
      "text/plain": "   id   mag                time  latitude   longitude  height\n0   1  1.93 1995-01-28 00:58:26   37.4395 -118.687167   4.901\n1   2  1.90 1995-01-28 00:55:35   34.4180 -116.486000   4.484\n2   3  3.50 1995-01-28 00:53:30   36.0450   -1.075000  33.000\n3   4  1.76 1995-01-28 00:44:05   40.4540 -123.886833   3.975\n4   5  1.62 1995-01-28 00:39:14   35.0330 -117.683000  -0.935",
      "text/html": "<div>\n<style scoped>\n    .dataframe tbody tr th:only-of-type {\n        vertical-align: middle;\n    }\n\n    .dataframe tbody tr th {\n        vertical-align: top;\n    }\n\n    .dataframe thead th {\n        text-align: right;\n    }\n</style>\n<table border=\"1\" class=\"dataframe\">\n  <thead>\n    <tr style=\"text-align: right;\">\n      <th></th>\n      <th>id</th>\n      <th>mag</th>\n      <th>time</th>\n      <th>latitude</th>\n      <th>longitude</th>\n      <th>height</th>\n    </tr>\n  </thead>\n  <tbody>\n    <tr>\n      <th>0</th>\n      <td>1</td>\n      <td>1.93</td>\n      <td>1995-01-28 00:58:26</td>\n      <td>37.4395</td>\n      <td>-118.687167</td>\n      <td>4.901</td>\n    </tr>\n    <tr>\n      <th>1</th>\n      <td>2</td>\n      <td>1.90</td>\n      <td>1995-01-28 00:55:35</td>\n      <td>34.4180</td>\n      <td>-116.486000</td>\n      <td>4.484</td>\n    </tr>\n    <tr>\n      <th>2</th>\n      <td>3</td>\n      <td>3.50</td>\n      <td>1995-01-28 00:53:30</td>\n      <td>36.0450</td>\n      <td>-1.075000</td>\n      <td>33.000</td>\n    </tr>\n    <tr>\n      <th>3</th>\n      <td>4</td>\n      <td>1.76</td>\n      <td>1995-01-28 00:44:05</td>\n      <td>40.4540</td>\n      <td>-123.886833</td>\n      <td>3.975</td>\n    </tr>\n    <tr>\n      <th>4</th>\n      <td>5</td>\n      <td>1.62</td>\n      <td>1995-01-28 00:39:14</td>\n      <td>35.0330</td>\n      <td>-117.683000</td>\n      <td>-0.935</td>\n    </tr>\n  </tbody>\n</table>\n</div>"
     },
     "execution_count": 2,
     "metadata": {},
     "output_type": "execute_result"
    }
   ],
   "source": [
    "# unpickling\n",
    "df = pd.read_pickle('./earthquakes_with_coordinates.pkl')\n",
    "df.head()"
   ]
  },
  {
   "cell_type": "code",
   "execution_count": 20,
   "outputs": [
    {
     "data": {
      "text/plain": "                                            geometry\n0  POLYGON ((-180.000 -90.000, 1020.000 -90.000, ...",
      "text/html": "<div>\n<style scoped>\n    .dataframe tbody tr th:only-of-type {\n        vertical-align: middle;\n    }\n\n    .dataframe tbody tr th {\n        vertical-align: top;\n    }\n\n    .dataframe thead th {\n        text-align: right;\n    }\n</style>\n<table border=\"1\" class=\"dataframe\">\n  <thead>\n    <tr style=\"text-align: right;\">\n      <th></th>\n      <th>geometry</th>\n    </tr>\n  </thead>\n  <tbody>\n    <tr>\n      <th>0</th>\n      <td>POLYGON ((-180.000 -90.000, 1020.000 -90.000, ...</td>\n    </tr>\n  </tbody>\n</table>\n</div>"
     },
     "execution_count": 20,
     "metadata": {},
     "output_type": "execute_result"
    }
   ],
   "source": [
    "xmin, ymin, xmax, ymax = -180, -90, 180, 90\n",
    "\n",
    "length = 1000\n",
    "wide = 1200\n",
    "\n",
    "cols = list(np.arange(xmin, xmax + wide, wide))\n",
    "rows = list(np.arange(ymin, ymax + length, length))\n",
    "\n",
    "polygons = []\n",
    "for x in cols[:-1]:\n",
    "    for y in rows[:-1]:\n",
    "        polygons.append(Polygon([(x,y), (x+wide, y), (x+wide, y+length), (x, y+length)]))\n",
    "\n",
    "grid = gpd.GeoDataFrame({'geometry':polygons})\n",
    "grid\n",
    "# grid.to_file(\"grid.shp\")"
   ],
   "metadata": {
    "collapsed": false
   }
  },
  {
   "cell_type": "code",
   "execution_count": 60,
   "outputs": [
    {
     "data": {
      "text/plain": "     x   y  dob                  geometry\n0 -170 -80  100  POINT (-170.000 -80.000)\n1 -160 -70  200  POINT (-160.000 -70.000)\n2   50  21   10     POINT (50.000 21.000)",
      "text/html": "<div>\n<style scoped>\n    .dataframe tbody tr th:only-of-type {\n        vertical-align: middle;\n    }\n\n    .dataframe tbody tr th {\n        vertical-align: top;\n    }\n\n    .dataframe thead th {\n        text-align: right;\n    }\n</style>\n<table border=\"1\" class=\"dataframe\">\n  <thead>\n    <tr style=\"text-align: right;\">\n      <th></th>\n      <th>x</th>\n      <th>y</th>\n      <th>dob</th>\n      <th>geometry</th>\n    </tr>\n  </thead>\n  <tbody>\n    <tr>\n      <th>0</th>\n      <td>-170</td>\n      <td>-80</td>\n      <td>100</td>\n      <td>POINT (-170.000 -80.000)</td>\n    </tr>\n    <tr>\n      <th>1</th>\n      <td>-160</td>\n      <td>-70</td>\n      <td>200</td>\n      <td>POINT (-160.000 -70.000)</td>\n    </tr>\n    <tr>\n      <th>2</th>\n      <td>50</td>\n      <td>21</td>\n      <td>10</td>\n      <td>POINT (50.000 21.000)</td>\n    </tr>\n  </tbody>\n</table>\n</div>"
     },
     "execution_count": 60,
     "metadata": {},
     "output_type": "execute_result"
    }
   ],
   "source": [
    "df = pd.DataFrame()\n",
    "df['x'] = [-170, -160, 50]\n",
    "df['y'] = [-80, -70, 21]\n",
    "df['dob'] = [100, 200, 10]\n",
    "gdf = gpd.GeoDataFrame(df,\n",
    "            geometry=gpd.points_from_xy(df.x, df.y),\n",
    "            crs=\"+proj=sinu +lon_0=0 +x_0=0 +y_0=0 +a=6371007.181 +b=6371007.181 +units=m +no_defs\")\n",
    "gdf.head()"
   ],
   "metadata": {
    "collapsed": false
   }
  },
  {
   "cell_type": "code",
   "execution_count": 24,
   "outputs": [
    {
     "data": {
      "text/plain": "(-181.0, 61.0, -85.05, 26.05)"
     },
     "execution_count": 24,
     "metadata": {},
     "output_type": "execute_result"
    },
    {
     "data": {
      "text/plain": "<Figure size 1200x800 with 1 Axes>",
      "image/png": "[encoded data removed]"
     },
     "metadata": {},
     "output_type": "display_data"
    }
   ],
   "source": [
    "# total area for the grid\n",
    "xmin, ymin, xmax, ymax = -180, -90, 180, 90\n",
    "# how many cells across and down\n",
    "n_cells=50\n",
    "cell_size = (xmax-xmin)/n_cells\n",
    "# projection of the grid\n",
    "crs = \"+proj=sinu +lon_0=0 +x_0=0 +y_0=0 +a=6371007.181 +b=6371007.181 +units=m +no_defs\"\n",
    "# create the cells in a loop\n",
    "grid_cells = []\n",
    "for x0 in np.arange(xmin, xmax+cell_size, cell_size ):\n",
    "    for y0 in np.arange(ymin, ymax+cell_size, cell_size):\n",
    "        # bounds\n",
    "        x1 = x0-cell_size\n",
    "        y1 = y0+cell_size\n",
    "        grid_cells.append(shapely.geometry.box(x0, y0, x1, y1)  )\n",
    "cell = gpd.GeoDataFrame(grid_cells, columns=['geometry'],\n",
    "                                 crs=crs)\n",
    "\n",
    "ax = gdf.plot(markersize=10, figsize=(12, 8), column='dob', cmap='jet')\n",
    "plt.autoscale(False)\n",
    "cell.plot(ax=ax, facecolor=\"none\", edgecolor='grey')\n",
    "ax.axis(\"off\")"
   ],
   "metadata": {
    "collapsed": false
   }
  },
  {
   "cell_type": "code",
   "execution_count": 82,
   "outputs": [
    {
     "data": {
      "text/plain": "                                               geometry\n0     POLYGON ((-183.60000 -90.00000, -183.60000 -86...\n1     POLYGON ((-183.60000 -86.40000, -183.60000 -82...\n2     POLYGON ((-183.60000 -82.80000, -183.60000 -79...\n3     POLYGON ((-183.60000 -79.20000, -183.60000 -75...\n4     POLYGON ((-183.60000 -75.60000, -183.60000 -72...\n...                                                 ...\n5146  POLYGON ((176.40000 75.60000, 176.40000 79.200...\n5147  POLYGON ((176.40000 79.20000, 176.40000 82.800...\n5148  POLYGON ((176.40000 82.80000, 176.40000 86.400...\n5149  POLYGON ((176.40000 86.40000, 176.40000 90.000...\n5150  POLYGON ((176.40000 90.00000, 176.40000 93.600...\n\n[5151 rows x 1 columns]",
      "text/html": "<div>\n<style scoped>\n    .dataframe tbody tr th:only-of-type {\n        vertical-align: middle;\n    }\n\n    .dataframe tbody tr th {\n        vertical-align: top;\n    }\n\n    .dataframe thead th {\n        text-align: right;\n    }\n</style>\n<table border=\"1\" class=\"dataframe\">\n  <thead>\n    <tr style=\"text-align: right;\">\n      <th></th>\n      <th>geometry</th>\n    </tr>\n  </thead>\n  <tbody>\n    <tr>\n      <th>0</th>\n      <td>POLYGON ((-183.60000 -90.00000, -183.60000 -86...</td>\n    </tr>\n    <tr>\n      <th>1</th>\n      <td>POLYGON ((-183.60000 -86.40000, -183.60000 -82...</td>\n    </tr>\n    <tr>\n      <th>2</th>\n      <td>POLYGON ((-183.60000 -82.80000, -183.60000 -79...</td>\n    </tr>\n    <tr>\n      <th>3</th>\n      <td>POLYGON ((-183.60000 -79.20000, -183.60000 -75...</td>\n    </tr>\n    <tr>\n      <th>4</th>\n      <td>POLYGON ((-183.60000 -75.60000, -183.60000 -72...</td>\n    </tr>\n    <tr>\n      <th>...</th>\n      <td>...</td>\n    </tr>\n    <tr>\n      <th>5146</th>\n      <td>POLYGON ((176.40000 75.60000, 176.40000 79.200...</td>\n    </tr>\n    <tr>\n      <th>5147</th>\n      <td>POLYGON ((176.40000 79.20000, 176.40000 82.800...</td>\n    </tr>\n    <tr>\n      <th>5148</th>\n      <td>POLYGON ((176.40000 82.80000, 176.40000 86.400...</td>\n    </tr>\n    <tr>\n      <th>5149</th>\n      <td>POLYGON ((176.40000 86.40000, 176.40000 90.000...</td>\n    </tr>\n    <tr>\n      <th>5150</th>\n      <td>POLYGON ((176.40000 90.00000, 176.40000 93.600...</td>\n    </tr>\n  </tbody>\n</table>\n<p>5151 rows × 1 columns</p>\n</div>"
     },
     "execution_count": 82,
     "metadata": {},
     "output_type": "execute_result"
    }
   ],
   "source": [
    "xmin, ymin, xmax, ymax = -180, -90, 180, 90\n",
    "\n",
    "n_cells=100\n",
    "cell_size = (xmax-xmin)/n_cells\n",
    "\n",
    "grid_cells = []\n",
    "for x0 in np.arange(xmin, xmax+cell_size, cell_size ):\n",
    "    for y0 in np.arange(ymin, ymax+cell_size, cell_size):\n",
    "        # bounds\n",
    "        x1 = x0-cell_size\n",
    "        y1 = y0+cell_size\n",
    "        grid_cells.append(shapely.geometry.box(x0, y0, x1, y1)  )\n",
    "cell = gpd.GeoDataFrame(grid_cells, columns=['geometry'], crs='epsg:4326')\n",
    "# cell = cell.set_crs('epsg:4326')\n",
    "cell"
   ],
   "metadata": {
    "collapsed": false
   }
  },
  {
   "cell_type": "code",
   "execution_count": 83,
   "outputs": [],
   "source": [
    "# pickling grid\n",
    "# cell.to_pickle('./grid.pkl')\n",
    "# cell.to_pickle('./grid_800.pkl')\n",
    "# cell.to_pickle('./grid_400.pkl')\n",
    "cell.to_pickle('./grid_100.pkl')"
   ],
   "metadata": {
    "collapsed": false
   }
  },
  {
   "cell_type": "code",
   "execution_count": 3,
   "outputs": [],
   "source": [
    "# unickling grid\n",
    "# grid = pd.read_pickle('./grid.pkl')\n",
    "# grid = pd.read_pickle('./grid_800.pkl')\n",
    "grid = pd.read_pickle('./grid_100.pkl')"
   ],
   "metadata": {
    "collapsed": false
   }
  },
  {
   "cell_type": "code",
   "execution_count": 9,
   "outputs": [
    {
     "data": {
      "text/plain": "geometry    POLYGON ((-111.60000 36.00000, -111.60000 39.6...\nName: 1055, dtype: geometry"
     },
     "execution_count": 9,
     "metadata": {},
     "output_type": "execute_result"
    }
   ],
   "source": [
    "grid.iloc[1055]"
   ],
   "metadata": {
    "collapsed": false
   }
  },
  {
   "cell_type": "code",
   "execution_count": 32,
   "outputs": [
    {
     "data": {
      "text/plain": "Timestamp('2023-03-21 22:32:59')"
     },
     "execution_count": 32,
     "metadata": {},
     "output_type": "execute_result"
    }
   ],
   "source": [
    "# min - 1995-01-21\n",
    "# max - 2023-03-21"
   ],
   "metadata": {
    "collapsed": false
   }
  },
  {
   "cell_type": "markdown",
   "source": [
    "# Trzęsienia ziemi powyzej magnituda 3.0"
   ],
   "metadata": {
    "collapsed": false
   }
  },
  {
   "cell_type": "code",
   "execution_count": 11,
   "outputs": [],
   "source": [
    "mag_3 = df[df['mag'] >= 3.0]"
   ],
   "metadata": {
    "collapsed": false
   }
  },
  {
   "cell_type": "code",
   "execution_count": 12,
   "outputs": [
    {
     "data": {
      "text/plain": "              id   mag                time   latitude   longitude  height  \\\n2              3  3.50 1995-01-28 00:53:30  36.045000   -1.075000  33.000   \n6              7  4.70 1995-01-28 00:17:59  -4.858000  133.977000  33.000   \n9             10  4.30 1995-01-28 00:04:07  28.163000   56.762000  56.800   \n11            12  4.90 1995-01-27 23:40:32  -4.133000  134.929000  33.000   \n14            15  4.90 1995-01-27 23:33:58  -4.941000  133.868000  33.000   \n...          ...   ...                 ...        ...         ...     ...   \n3292326  3292327  3.28 2023-03-21 05:16:22  18.958167  -67.185333  14.870   \n3292331  3292332  3.80 2023-03-21 04:54:40   9.594800  -83.957400  30.629   \n3292357  3292358  5.20 2023-03-21 02:45:21  23.517600  121.387400  11.587   \n3292358  3292359  5.50 2023-03-21 02:44:13   9.359900  -84.094300  35.000   \n3292373  3292374  4.50 2023-03-21 01:20:14  38.997100   21.137600  10.000   \n\n                           geometry  \n2         POINT (-1.07500 36.04500)  \n6        POINT (133.97700 -4.85800)  \n9         POINT (56.76200 28.16300)  \n11       POINT (134.92900 -4.13300)  \n14       POINT (133.86800 -4.94100)  \n...                             ...  \n3292326  POINT (-67.18533 18.95817)  \n3292331   POINT (-83.95740 9.59480)  \n3292357  POINT (121.38740 23.51760)  \n3292358   POINT (-84.09430 9.35990)  \n3292373   POINT (21.13760 38.99710)  \n\n[526955 rows x 7 columns]",
      "text/html": "<div>\n<style scoped>\n    .dataframe tbody tr th:only-of-type {\n        vertical-align: middle;\n    }\n\n    .dataframe tbody tr th {\n        vertical-align: top;\n    }\n\n    .dataframe thead th {\n        text-align: right;\n    }\n</style>\n<table border=\"1\" class=\"dataframe\">\n  <thead>\n    <tr style=\"text-align: right;\">\n      <th></th>\n      <th>id</th>\n      <th>mag</th>\n      <th>time</th>\n      <th>latitude</th>\n      <th>longitude</th>\n      <th>height</th>\n      <th>geometry</th>\n    </tr>\n  </thead>\n  <tbody>\n    <tr>\n      <th>2</th>\n      <td>3</td>\n      <td>3.50</td>\n      <td>1995-01-28 00:53:30</td>\n      <td>36.045000</td>\n      <td>-1.075000</td>\n      <td>33.000</td>\n      <td>POINT (-1.07500 36.04500)</td>\n    </tr>\n    <tr>\n      <th>6</th>\n      <td>7</td>\n      <td>4.70</td>\n      <td>1995-01-28 00:17:59</td>\n      <td>-4.858000</td>\n      <td>133.977000</td>\n      <td>33.000</td>\n      <td>POINT (133.97700 -4.85800)</td>\n    </tr>\n    <tr>\n      <th>9</th>\n      <td>10</td>\n      <td>4.30</td>\n      <td>1995-01-28 00:04:07</td>\n      <td>28.163000</td>\n      <td>56.762000</td>\n      <td>56.800</td>\n      <td>POINT (56.76200 28.16300)</td>\n    </tr>\n    <tr>\n      <th>11</th>\n      <td>12</td>\n      <td>4.90</td>\n      <td>1995-01-27 23:40:32</td>\n      <td>-4.133000</td>\n      <td>134.929000</td>\n      <td>33.000</td>\n      <td>POINT (134.92900 -4.13300)</td>\n    </tr>\n    <tr>\n      <th>14</th>\n      <td>15</td>\n      <td>4.90</td>\n      <td>1995-01-27 23:33:58</td>\n      <td>-4.941000</td>\n      <td>133.868000</td>\n      <td>33.000</td>\n      <td>POINT (133.86800 -4.94100)</td>\n    </tr>\n    <tr>\n      <th>...</th>\n      <td>...</td>\n      <td>...</td>\n      <td>...</td>\n      <td>...</td>\n      <td>...</td>\n      <td>...</td>\n      <td>...</td>\n    </tr>\n    <tr>\n      <th>3292326</th>\n      <td>3292327</td>\n      <td>3.28</td>\n      <td>2023-03-21 05:16:22</td>\n      <td>18.958167</td>\n      <td>-67.185333</td>\n      <td>14.870</td>\n      <td>POINT (-67.18533 18.95817)</td>\n    </tr>\n    <tr>\n      <th>3292331</th>\n      <td>3292332</td>\n      <td>3.80</td>\n      <td>2023-03-21 04:54:40</td>\n      <td>9.594800</td>\n      <td>-83.957400</td>\n      <td>30.629</td>\n      <td>POINT (-83.95740 9.59480)</td>\n    </tr>\n    <tr>\n      <th>3292357</th>\n      <td>3292358</td>\n      <td>5.20</td>\n      <td>2023-03-21 02:45:21</td>\n      <td>23.517600</td>\n      <td>121.387400</td>\n      <td>11.587</td>\n      <td>POINT (121.38740 23.51760)</td>\n    </tr>\n    <tr>\n      <th>3292358</th>\n      <td>3292359</td>\n      <td>5.50</td>\n      <td>2023-03-21 02:44:13</td>\n      <td>9.359900</td>\n      <td>-84.094300</td>\n      <td>35.000</td>\n      <td>POINT (-84.09430 9.35990)</td>\n    </tr>\n    <tr>\n      <th>3292373</th>\n      <td>3292374</td>\n      <td>4.50</td>\n      <td>2023-03-21 01:20:14</td>\n      <td>38.997100</td>\n      <td>21.137600</td>\n      <td>10.000</td>\n      <td>POINT (21.13760 38.99710)</td>\n    </tr>\n  </tbody>\n</table>\n<p>526955 rows × 7 columns</p>\n</div>"
     },
     "execution_count": 12,
     "metadata": {},
     "output_type": "execute_result"
    }
   ],
   "source": [
    "gdf_mag_3 = gpd.GeoDataFrame(mag_3, geometry=gpd.points_from_xy(mag_3['longitude'], mag_3['latitude']), crs=\"EPSG:4326\")\n",
    "gdf_mag_3"
   ],
   "metadata": {
    "collapsed": false
   }
  },
  {
   "cell_type": "code",
   "execution_count": 63,
   "outputs": [
    {
     "data": {
      "text/plain": "                                               geometry\n0     POLYGON ((-183.60000 -90.00000, -183.60000 -86...\n1     POLYGON ((-183.60000 -86.40000, -183.60000 -82...\n2     POLYGON ((-183.60000 -82.80000, -183.60000 -79...\n3     POLYGON ((-183.60000 -79.20000, -183.60000 -75...\n4     POLYGON ((-183.60000 -75.60000, -183.60000 -72...\n...                                                 ...\n5146  POLYGON ((176.40000 75.60000, 176.40000 79.200...\n5147  POLYGON ((176.40000 79.20000, 176.40000 82.800...\n5148  POLYGON ((176.40000 82.80000, 176.40000 86.400...\n5149  POLYGON ((176.40000 86.40000, 176.40000 90.000...\n5150  POLYGON ((176.40000 90.00000, 176.40000 93.600...\n\n[5151 rows x 1 columns]",
      "text/html": "<div>\n<style scoped>\n    .dataframe tbody tr th:only-of-type {\n        vertical-align: middle;\n    }\n\n    .dataframe tbody tr th {\n        vertical-align: top;\n    }\n\n    .dataframe thead th {\n        text-align: right;\n    }\n</style>\n<table border=\"1\" class=\"dataframe\">\n  <thead>\n    <tr style=\"text-align: right;\">\n      <th></th>\n      <th>geometry</th>\n    </tr>\n  </thead>\n  <tbody>\n    <tr>\n      <th>0</th>\n      <td>POLYGON ((-183.60000 -90.00000, -183.60000 -86...</td>\n    </tr>\n    <tr>\n      <th>1</th>\n      <td>POLYGON ((-183.60000 -86.40000, -183.60000 -82...</td>\n    </tr>\n    <tr>\n      <th>2</th>\n      <td>POLYGON ((-183.60000 -82.80000, -183.60000 -79...</td>\n    </tr>\n    <tr>\n      <th>3</th>\n      <td>POLYGON ((-183.60000 -79.20000, -183.60000 -75...</td>\n    </tr>\n    <tr>\n      <th>4</th>\n      <td>POLYGON ((-183.60000 -75.60000, -183.60000 -72...</td>\n    </tr>\n    <tr>\n      <th>...</th>\n      <td>...</td>\n    </tr>\n    <tr>\n      <th>5146</th>\n      <td>POLYGON ((176.40000 75.60000, 176.40000 79.200...</td>\n    </tr>\n    <tr>\n      <th>5147</th>\n      <td>POLYGON ((176.40000 79.20000, 176.40000 82.800...</td>\n    </tr>\n    <tr>\n      <th>5148</th>\n      <td>POLYGON ((176.40000 82.80000, 176.40000 86.400...</td>\n    </tr>\n    <tr>\n      <th>5149</th>\n      <td>POLYGON ((176.40000 86.40000, 176.40000 90.000...</td>\n    </tr>\n    <tr>\n      <th>5150</th>\n      <td>POLYGON ((176.40000 90.00000, 176.40000 93.600...</td>\n    </tr>\n  </tbody>\n</table>\n<p>5151 rows × 1 columns</p>\n</div>"
     },
     "execution_count": 63,
     "metadata": {},
     "output_type": "execute_result"
    }
   ],
   "source": [
    "grid"
   ],
   "metadata": {
    "collapsed": false
   }
  },
  {
   "cell_type": "code",
   "execution_count": 15,
   "outputs": [
    {
     "name": "stderr",
     "output_type": "stream",
     "text": [
      "C:\\Users\\sirko\\.conda\\envs\\backend\\Lib\\site-packages\\IPython\\core\\interactiveshell.py:3466: FutureWarning: The `op` parameter is deprecated and will be removed in a future release. Please use the `predicate` parameter instead.\n",
      "  if await self.run_code(code, result, async_=asy):\n"
     ]
    },
    {
     "data": {
      "text/plain": "              id   mag                time   latitude   longitude  height  \\\n2              3  3.50 1995-01-28 00:53:30  36.045000   -1.075000  33.000   \n6              7  4.70 1995-01-28 00:17:59  -4.858000  133.977000  33.000   \n9             10  4.30 1995-01-28 00:04:07  28.163000   56.762000  56.800   \n11            12  4.90 1995-01-27 23:40:32  -4.133000  134.929000  33.000   \n14            15  4.90 1995-01-27 23:33:58  -4.941000  133.868000  33.000   \n...          ...   ...                 ...        ...         ...     ...   \n3292326  3292327  3.28 2023-03-21 05:16:22  18.958167  -67.185333  14.870   \n3292331  3292332  3.80 2023-03-21 04:54:40   9.594800  -83.957400  30.629   \n3292357  3292358  5.20 2023-03-21 02:45:21  23.517600  121.387400  11.587   \n3292358  3292359  5.50 2023-03-21 02:44:13   9.359900  -84.094300  35.000   \n3292373  3292374  4.50 2023-03-21 01:20:14  38.997100   21.137600  10.000   \n\n                           geometry  index_right  \n2         POINT (-1.07500 36.04500)       2585.0  \n6        POINT (133.97700 -4.85800)       4511.0  \n9         POINT (56.76200 28.16300)       3398.0  \n11       POINT (134.92900 -4.13300)       4511.0  \n14       POINT (133.86800 -4.94100)       4511.0  \n...                             ...          ...  \n3292326  POINT (-67.18533 18.95817)       1662.0  \n3292331   POINT (-83.95740 9.59480)       1404.0  \n3292357  POINT (121.38740 23.51760)       4315.0  \n3292358   POINT (-84.09430 9.35990)       1404.0  \n3292373   POINT (21.13760 38.99710)       2891.0  \n\n[526955 rows x 8 columns]",
      "text/html": "<div>\n<style scoped>\n    .dataframe tbody tr th:only-of-type {\n        vertical-align: middle;\n    }\n\n    .dataframe tbody tr th {\n        vertical-align: top;\n    }\n\n    .dataframe thead th {\n        text-align: right;\n    }\n</style>\n<table border=\"1\" class=\"dataframe\">\n  <thead>\n    <tr style=\"text-align: right;\">\n      <th></th>\n      <th>id</th>\n      <th>mag</th>\n      <th>time</th>\n      <th>latitude</th>\n      <th>longitude</th>\n      <th>height</th>\n      <th>geometry</th>\n      <th>index_right</th>\n    </tr>\n  </thead>\n  <tbody>\n    <tr>\n      <th>2</th>\n      <td>3</td>\n      <td>3.50</td>\n      <td>1995-01-28 00:53:30</td>\n      <td>36.045000</td>\n      <td>-1.075000</td>\n      <td>33.000</td>\n      <td>POINT (-1.07500 36.04500)</td>\n      <td>2585.0</td>\n    </tr>\n    <tr>\n      <th>6</th>\n      <td>7</td>\n      <td>4.70</td>\n      <td>1995-01-28 00:17:59</td>\n      <td>-4.858000</td>\n      <td>133.977000</td>\n      <td>33.000</td>\n      <td>POINT (133.97700 -4.85800)</td>\n      <td>4511.0</td>\n    </tr>\n    <tr>\n      <th>9</th>\n      <td>10</td>\n      <td>4.30</td>\n      <td>1995-01-28 00:04:07</td>\n      <td>28.163000</td>\n      <td>56.762000</td>\n      <td>56.800</td>\n      <td>POINT (56.76200 28.16300)</td>\n      <td>3398.0</td>\n    </tr>\n    <tr>\n      <th>11</th>\n      <td>12</td>\n      <td>4.90</td>\n      <td>1995-01-27 23:40:32</td>\n      <td>-4.133000</td>\n      <td>134.929000</td>\n      <td>33.000</td>\n      <td>POINT (134.92900 -4.13300)</td>\n      <td>4511.0</td>\n    </tr>\n    <tr>\n      <th>14</th>\n      <td>15</td>\n      <td>4.90</td>\n      <td>1995-01-27 23:33:58</td>\n      <td>-4.941000</td>\n      <td>133.868000</td>\n      <td>33.000</td>\n      <td>POINT (133.86800 -4.94100)</td>\n      <td>4511.0</td>\n    </tr>\n    <tr>\n      <th>...</th>\n      <td>...</td>\n      <td>...</td>\n      <td>...</td>\n      <td>...</td>\n      <td>...</td>\n      <td>...</td>\n      <td>...</td>\n      <td>...</td>\n    </tr>\n    <tr>\n      <th>3292326</th>\n      <td>3292327</td>\n      <td>3.28</td>\n      <td>2023-03-21 05:16:22</td>\n      <td>18.958167</td>\n      <td>-67.185333</td>\n      <td>14.870</td>\n      <td>POINT (-67.18533 18.95817)</td>\n      <td>1662.0</td>\n    </tr>\n    <tr>\n      <th>3292331</th>\n      <td>3292332</td>\n      <td>3.80</td>\n      <td>2023-03-21 04:54:40</td>\n      <td>9.594800</td>\n      <td>-83.957400</td>\n      <td>30.629</td>\n      <td>POINT (-83.95740 9.59480)</td>\n      <td>1404.0</td>\n    </tr>\n    <tr>\n      <th>3292357</th>\n      <td>3292358</td>\n      <td>5.20</td>\n      <td>2023-03-21 02:45:21</td>\n      <td>23.517600</td>\n      <td>121.387400</td>\n      <td>11.587</td>\n      <td>POINT (121.38740 23.51760)</td>\n      <td>4315.0</td>\n    </tr>\n    <tr>\n      <th>3292358</th>\n      <td>3292359</td>\n      <td>5.50</td>\n      <td>2023-03-21 02:44:13</td>\n      <td>9.359900</td>\n      <td>-84.094300</td>\n      <td>35.000</td>\n      <td>POINT (-84.09430 9.35990)</td>\n      <td>1404.0</td>\n    </tr>\n    <tr>\n      <th>3292373</th>\n      <td>3292374</td>\n      <td>4.50</td>\n      <td>2023-03-21 01:20:14</td>\n      <td>38.997100</td>\n      <td>21.137600</td>\n      <td>10.000</td>\n      <td>POINT (21.13760 38.99710)</td>\n      <td>2891.0</td>\n    </tr>\n  </tbody>\n</table>\n<p>526955 rows × 8 columns</p>\n</div>"
     },
     "execution_count": 15,
     "metadata": {},
     "output_type": "execute_result"
    }
   ],
   "source": [
    "# spatial join - points inside polygons\n",
    "joined = gpd.sjoin(gdf_mag_3, grid, how=\"left\", op=\"within\")\n",
    "joined"
   ],
   "metadata": {
    "collapsed": false
   }
  },
  {
   "cell_type": "code",
   "execution_count": 20,
   "outputs": [
    {
     "data": {
      "text/plain": "index_right\n228      6.2\n244      4.6\n253      4.6\n255      4.6\n256      4.9\n        ... \n80559    4.3\n80566    4.1\n80569    4.6\n80570    4.8\n80574    5.2\nName: mag, Length: 12882, dtype: float64"
     },
     "execution_count": 20,
     "metadata": {},
     "output_type": "execute_result"
    }
   ],
   "source": [
    "# max magnitude in specific polygons\n",
    "max_values = joined.groupby('index_right')['mag'].max()\n",
    "max_values"
   ],
   "metadata": {
    "collapsed": false
   }
  },
  {
   "cell_type": "code",
   "execution_count": null,
   "outputs": [],
   "source": [
    "# polygons with max"
   ],
   "metadata": {
    "collapsed": false
   }
  },
  {
   "cell_type": "code",
   "execution_count": 14,
   "outputs": [
    {
     "data": {
      "text/plain": "            date\n0     1995-01-21\n1     1995-01-22\n2     1995-01-23\n3     1995-01-24\n4     1995-01-25\n...          ...\n10282 2023-03-17\n10283 2023-03-18\n10284 2023-03-19\n10285 2023-03-20\n10286 2023-03-21\n\n[10287 rows x 1 columns]",
      "text/html": "<div>\n<style scoped>\n    .dataframe tbody tr th:only-of-type {\n        vertical-align: middle;\n    }\n\n    .dataframe tbody tr th {\n        vertical-align: top;\n    }\n\n    .dataframe thead th {\n        text-align: right;\n    }\n</style>\n<table border=\"1\" class=\"dataframe\">\n  <thead>\n    <tr style=\"text-align: right;\">\n      <th></th>\n      <th>date</th>\n    </tr>\n  </thead>\n  <tbody>\n    <tr>\n      <th>0</th>\n      <td>1995-01-21</td>\n    </tr>\n    <tr>\n      <th>1</th>\n      <td>1995-01-22</td>\n    </tr>\n    <tr>\n      <th>2</th>\n      <td>1995-01-23</td>\n    </tr>\n    <tr>\n      <th>3</th>\n      <td>1995-01-24</td>\n    </tr>\n    <tr>\n      <th>4</th>\n      <td>1995-01-25</td>\n    </tr>\n    <tr>\n      <th>...</th>\n      <td>...</td>\n    </tr>\n    <tr>\n      <th>10282</th>\n      <td>2023-03-17</td>\n    </tr>\n    <tr>\n      <th>10283</th>\n      <td>2023-03-18</td>\n    </tr>\n    <tr>\n      <th>10284</th>\n      <td>2023-03-19</td>\n    </tr>\n    <tr>\n      <th>10285</th>\n      <td>2023-03-20</td>\n    </tr>\n    <tr>\n      <th>10286</th>\n      <td>2023-03-21</td>\n    </tr>\n  </tbody>\n</table>\n<p>10287 rows × 1 columns</p>\n</div>"
     },
     "execution_count": 14,
     "metadata": {},
     "output_type": "execute_result"
    }
   ],
   "source": [
    "start_date = '1995-01-21'\n",
    "end_date = '2023-03-21'\n",
    "\n",
    "# Create a DataFrame with each day between start_date and end_date\n",
    "date_range = pd.date_range(start=start_date, end=end_date, freq='D')\n",
    "df_dates = pd.DataFrame({'date': date_range})\n",
    "df_dates"
   ],
   "metadata": {
    "collapsed": false
   }
  },
  {
   "cell_type": "code",
   "execution_count": null,
   "outputs": [
    {
     "name": "stdout",
     "output_type": "stream",
     "text": [
      "POLYGON ((-180.45 -74.6999999999999, -180.45 -74.2499999999999, -180 -74.2499999999999, -180 -74.6999999999999, -180.45 -74.6999999999999))\n",
      "POLYGON ((-180.45 -74.2499999999999, -180.45 -73.7999999999999, -180 -73.7999999999999, -180 -74.2499999999999, -180.45 -74.2499999999999))\n",
      "POLYGON ((-180.45 -73.7999999999999, -180.45 -73.34999999999989, -180 -73.34999999999989, -180 -73.7999999999999, -180.45 -73.7999999999999))\n",
      "POLYGON ((-180.45 -73.34999999999989, -180.45 -72.89999999999989, -180 -72.89999999999989, -180 -73.34999999999989, -180.45 -73.34999999999989))\n",
      "POLYGON ((-180.45 -72.89999999999989, -180.45 -72.44999999999989, -180 -72.44999999999989, -180 -72.89999999999989, -180.45 -72.89999999999989))\n",
      "POLYGON ((-180.45 -72.44999999999989, -180.45 -71.99999999999989, -180 -71.99999999999989, -180 -72.44999999999989, -180.45 -72.44999999999989))\n",
      "POLYGON ((-180.45 -71.99999999999989, -180.45 -71.54999999999988, -180 -71.54999999999988, -180 -71.99999999999989, -180.45 -71.99999999999989))\n",
      "POLYGON ((-180.45 -71.54999999999988, -180.45 -71.09999999999988, -180 -71.09999999999988, -180 -71.54999999999988, -180.45 -71.54999999999988))\n",
      "POLYGON ((-180.45 -71.09999999999988, -180.45 -70.64999999999988, -180 -70.64999999999988, -180 -71.09999999999988, -180.45 -71.09999999999988))\n",
      "POLYGON ((-180.45 -70.64999999999988, -180.45 -70.19999999999987, -180 -70.19999999999987, -180 -70.64999999999988, -180.45 -70.64999999999988))\n",
      "POLYGON ((-180.45 -70.19999999999987, -180.45 -69.74999999999987, -180 -69.74999999999987, -180 -70.19999999999987, -180.45 -70.19999999999987))\n",
      "POLYGON ((-180.45 -69.74999999999987, -180.45 -69.29999999999987, -180 -69.29999999999987, -180 -69.74999999999987, -180.45 -69.74999999999987))\n",
      "POLYGON ((-180.45 -69.29999999999987, -180.45 -68.84999999999987, -180 -68.84999999999987, -180 -69.29999999999987, -180.45 -69.29999999999987))\n",
      "POLYGON ((-180.45 -68.84999999999987, -180.45 -68.39999999999986, -180 -68.39999999999986, -180 -68.84999999999987, -180.45 -68.84999999999987))\n",
      "POLYGON ((-180.45 -68.39999999999986, -180.45 -67.94999999999986, -180 -67.94999999999986, -180 -68.39999999999986, -180.45 -68.39999999999986))\n",
      "POLYGON ((-180.45 -67.94999999999986, -180.45 -67.49999999999986, -180 -67.49999999999986, -180 -67.94999999999986, -180.45 -67.94999999999986))\n",
      "POLYGON ((-180.45 -67.49999999999986, -180.45 -67.04999999999986, -180 -67.04999999999986, -180 -67.49999999999986, -180.45 -67.49999999999986))\n",
      "POLYGON ((-180.45 -67.04999999999986, -180.45 -66.59999999999985, -180 -66.59999999999985, -180 -67.04999999999986, -180.45 -67.04999999999986))\n",
      "POLYGON ((-180.45 -66.59999999999985, -180.45 -66.14999999999985, -180 -66.14999999999985, -180 -66.59999999999985, -180.45 -66.59999999999985))\n",
      "POLYGON ((-180.45 -66.14999999999985, -180.45 -65.69999999999985, -180 -65.69999999999985, -180 -66.14999999999985, -180.45 -66.14999999999985))\n",
      "POLYGON ((-180.45 -65.69999999999985, -180.45 -65.24999999999984, -180 -65.24999999999984, -180 -65.69999999999985, -180.45 -65.69999999999985))\n",
      "POLYGON ((-180.45 -65.24999999999984, -180.45 -64.79999999999984, -180 -64.79999999999984, -180 -65.24999999999984, -180.45 -65.24999999999984))\n",
      "POLYGON ((-180.45 -64.79999999999984, -180.45 -64.34999999999984, -180 -64.34999999999984, -180 -64.79999999999984, -180.45 -64.79999999999984))\n",
      "POLYGON ((-180.45 -64.34999999999984, -180.45 -63.89999999999984, -180 -63.89999999999984, -180 -64.34999999999984, -180.45 -64.34999999999984))\n",
      "POLYGON ((-180.45 -63.89999999999984, -180.45 -63.44999999999983, -180 -63.44999999999983, -180 -63.89999999999984, -180.45 -63.89999999999984))\n",
      "POLYGON ((-180.45 -63.44999999999983, -180.45 -62.99999999999983, -180 -62.99999999999983, -180 -63.44999999999983, -180.45 -63.44999999999983))\n",
      "POLYGON ((-180.45 -62.99999999999983, -180.45 -62.54999999999983, -180 -62.54999999999983, -180 -62.99999999999983, -180.45 -62.99999999999983))\n",
      "POLYGON ((-180.45 -62.54999999999983, -180.45 -62.09999999999982, -180 -62.09999999999982, -180 -62.54999999999983, -180.45 -62.54999999999983))\n",
      "POLYGON ((-180.45 -62.09999999999982, -180.45 -61.64999999999982, -180 -61.64999999999982, -180 -62.09999999999982, -180.45 -62.09999999999982))\n",
      "POLYGON ((-180.45 -61.64999999999982, -180.45 -61.19999999999982, -180 -61.19999999999982, -180 -61.64999999999982, -180.45 -61.64999999999982))\n",
      "POLYGON ((-180.45 -61.19999999999982, -180.45 -60.74999999999982, -180 -60.74999999999982, -180 -61.19999999999982, -180.45 -61.19999999999982))\n",
      "POLYGON ((-180.45 -60.74999999999982, -180.45 -60.29999999999981, -180 -60.29999999999981, -180 -60.74999999999982, -180.45 -60.74999999999982))\n",
      "POLYGON ((-180.45 -60.29999999999981, -180.45 -59.84999999999981, -180 -59.84999999999981, -180 -60.29999999999981, -180.45 -60.29999999999981))\n",
      "POLYGON ((-180.45 -59.84999999999981, -180.45 -59.39999999999981, -180 -59.39999999999981, -180 -59.84999999999981, -180.45 -59.84999999999981))\n",
      "POLYGON ((-180.45 -59.39999999999981, -180.45 -58.9499999999998, -180 -58.9499999999998, -180 -59.39999999999981, -180.45 -59.39999999999981))\n",
      "POLYGON ((-180.45 -58.9499999999998, -180.45 -58.4999999999998, -180 -58.4999999999998, -180 -58.9499999999998, -180.45 -58.9499999999998))\n",
      "POLYGON ((-180.45 -58.4999999999998, -180.45 -58.0499999999998, -180 -58.0499999999998, -180 -58.4999999999998, -180.45 -58.4999999999998))\n",
      "POLYGON ((-180.45 -58.0499999999998, -180.45 -57.5999999999998, -180 -57.5999999999998, -180 -58.0499999999998, -180.45 -58.0499999999998))\n",
      "POLYGON ((-180.45 -57.5999999999998, -180.45 -57.14999999999979, -180 -57.14999999999979, -180 -57.5999999999998, -180.45 -57.5999999999998))\n",
      "POLYGON ((-180.45 -57.14999999999979, -180.45 -56.69999999999979, -180 -56.69999999999979, -180 -57.14999999999979, -180.45 -57.14999999999979))\n",
      "POLYGON ((-180.45 -56.69999999999979, -180.45 -56.24999999999979, -180 -56.24999999999979, -180 -56.69999999999979, -180.45 -56.69999999999979))\n",
      "POLYGON ((-180.45 -56.24999999999979, -180.45 -55.79999999999978, -180 -55.79999999999978, -180 -56.24999999999979, -180.45 -56.24999999999979))\n",
      "POLYGON ((-180.45 -55.79999999999978, -180.45 -55.34999999999978, -180 -55.34999999999978, -180 -55.79999999999978, -180.45 -55.79999999999978))\n",
      "POLYGON ((-180.45 -55.34999999999978, -180.45 -54.89999999999978, -180 -54.89999999999978, -180 -55.34999999999978, -180.45 -55.34999999999978))\n",
      "POLYGON ((-180.45 -54.89999999999978, -180.45 -54.44999999999978, -180 -54.44999999999978, -180 -54.89999999999978, -180.45 -54.89999999999978))\n",
      "POLYGON ((-180.45 -54.44999999999978, -180.45 -53.99999999999977, -180 -53.99999999999977, -180 -54.44999999999978, -180.45 -54.44999999999978))\n",
      "POLYGON ((-180.45 -53.99999999999977, -180.45 -53.54999999999977, -180 -53.54999999999977, -180 -53.99999999999977, -180.45 -53.99999999999977))\n",
      "POLYGON ((-180.45 -53.54999999999977, -180.45 -53.09999999999977, -180 -53.09999999999977, -180 -53.54999999999977, -180.45 -53.54999999999977))\n",
      "POLYGON ((-180.45 -53.09999999999977, -180.45 -52.64999999999976, -180 -52.64999999999976, -180 -53.09999999999977, -180.45 -53.09999999999977))\n",
      "POLYGON ((-180.45 -52.64999999999976, -180.45 -52.19999999999976, -180 -52.19999999999976, -180 -52.64999999999976, -180.45 -52.64999999999976))\n",
      "POLYGON ((-180.45 -52.19999999999976, -180.45 -51.74999999999976, -180 -51.74999999999976, -180 -52.19999999999976, -180.45 -52.19999999999976))\n",
      "POLYGON ((-180.45 -51.74999999999976, -180.45 -51.29999999999976, -180 -51.29999999999976, -180 -51.74999999999976, -180.45 -51.74999999999976))\n",
      "POLYGON ((-180.45 -51.29999999999976, -180.45 -50.84999999999975, -180 -50.84999999999975, -180 -51.29999999999976, -180.45 -51.29999999999976))\n",
      "POLYGON ((-180.45 -50.84999999999975, -180.45 -50.39999999999975, -180 -50.39999999999975, -180 -50.84999999999975, -180.45 -50.84999999999975))\n",
      "POLYGON ((-180.45 -50.39999999999975, -180.45 -49.94999999999975, -180 -49.94999999999975, -180 -50.39999999999975, -180.45 -50.39999999999975))\n",
      "POLYGON ((-180.45 -49.94999999999975, -180.45 -49.49999999999974, -180 -49.49999999999974, -180 -49.94999999999975, -180.45 -49.94999999999975))\n",
      "POLYGON ((-180.45 -49.49999999999974, -180.45 -49.04999999999974, -180 -49.04999999999974, -180 -49.49999999999974, -180.45 -49.49999999999974))\n",
      "POLYGON ((-180.45 -49.04999999999974, -180.45 -48.59999999999974, -180 -48.59999999999974, -180 -49.04999999999974, -180.45 -49.04999999999974))\n",
      "POLYGON ((-180.45 -48.59999999999974, -180.45 -48.14999999999974, -180 -48.14999999999974, -180 -48.59999999999974, -180.45 -48.59999999999974))\n",
      "POLYGON ((-180.45 -48.14999999999974, -180.45 -47.69999999999973, -180 -47.69999999999973, -180 -48.14999999999974, -180.45 -48.14999999999974))\n",
      "POLYGON ((-180.45 -47.69999999999973, -180.45 -47.24999999999973, -180 -47.24999999999973, -180 -47.69999999999973, -180.45 -47.69999999999973))\n",
      "POLYGON ((-180.45 -47.24999999999973, -180.45 -46.79999999999973, -180 -46.79999999999973, -180 -47.24999999999973, -180.45 -47.24999999999973))\n",
      "POLYGON ((-180.45 -46.79999999999973, -180.45 -46.34999999999972, -180 -46.34999999999972, -180 -46.79999999999973, -180.45 -46.79999999999973))\n",
      "POLYGON ((-180.45 -46.34999999999972, -180.45 -45.89999999999972, -180 -45.89999999999972, -180 -46.34999999999972, -180.45 -46.34999999999972))\n",
      "POLYGON ((-180.45 -45.89999999999972, -180.45 -45.44999999999972, -180 -45.44999999999972, -180 -45.89999999999972, -180.45 -45.89999999999972))\n",
      "POLYGON ((-180.45 -45.44999999999972, -180.45 -44.99999999999972, -180 -44.99999999999972, -180 -45.44999999999972, -180.45 -45.44999999999972))\n",
      "POLYGON ((-180.45 -44.99999999999972, -180.45 -44.54999999999971, -180 -44.54999999999971, -180 -44.99999999999972, -180.45 -44.99999999999972))\n",
      "POLYGON ((-180.45 -44.54999999999971, -180.45 -44.09999999999971, -180 -44.09999999999971, -180 -44.54999999999971, -180.45 -44.54999999999971))\n",
      "POLYGON ((-180.45 -44.09999999999971, -180.45 -43.64999999999971, -180 -43.64999999999971, -180 -44.09999999999971, -180.45 -44.09999999999971))\n",
      "POLYGON ((-180.45 -43.64999999999971, -180.45 -43.1999999999997, -180 -43.1999999999997, -180 -43.64999999999971, -180.45 -43.64999999999971))\n",
      "POLYGON ((-180.45 -43.1999999999997, -180.45 -42.7499999999997, -180 -42.7499999999997, -180 -43.1999999999997, -180.45 -43.1999999999997))\n",
      "POLYGON ((-180.45 -42.7499999999997, -180.45 -42.2999999999997, -180 -42.2999999999997, -180 -42.7499999999997, -180.45 -42.7499999999997))\n",
      "POLYGON ((-180.45 -42.2999999999997, -180.45 -41.8499999999997, -180 -41.8499999999997, -180 -42.2999999999997, -180.45 -42.2999999999997))\n",
      "POLYGON ((-180.45 -41.8499999999997, -180.45 -41.39999999999969, -180 -41.39999999999969, -180 -41.8499999999997, -180.45 -41.8499999999997))\n",
      "POLYGON ((-180.45 -41.39999999999969, -180.45 -40.94999999999969, -180 -40.94999999999969, -180 -41.39999999999969, -180.45 -41.39999999999969))\n",
      "POLYGON ((-180.45 -40.94999999999969, -180.45 -40.49999999999969, -180 -40.49999999999969, -180 -40.94999999999969, -180.45 -40.94999999999969))\n",
      "POLYGON ((-180.45 -40.49999999999969, -180.45 -40.04999999999968, -180 -40.04999999999968, -180 -40.49999999999969, -180.45 -40.49999999999969))\n",
      "POLYGON ((-180.45 -40.04999999999968, -180.45 -39.59999999999968, -180 -39.59999999999968, -180 -40.04999999999968, -180.45 -40.04999999999968))\n",
      "POLYGON ((-180.45 -39.59999999999968, -180.45 -39.14999999999968, -180 -39.14999999999968, -180 -39.59999999999968, -180.45 -39.59999999999968))\n",
      "POLYGON ((-180.45 -39.14999999999968, -180.45 -38.69999999999968, -180 -38.69999999999968, -180 -39.14999999999968, -180.45 -39.14999999999968))\n",
      "POLYGON ((-180.45 -38.69999999999968, -180.45 -38.24999999999967, -180 -38.24999999999967, -180 -38.69999999999968, -180.45 -38.69999999999968))\n",
      "POLYGON ((-180.45 -38.24999999999967, -180.45 -37.79999999999967, -180 -37.79999999999967, -180 -38.24999999999967, -180.45 -38.24999999999967))\n",
      "POLYGON ((-180.45 -37.79999999999967, -180.45 -37.34999999999967, -180 -37.34999999999967, -180 -37.79999999999967, -180.45 -37.79999999999967))\n",
      "POLYGON ((-180.45 -37.34999999999967, -180.45 -36.89999999999966, -180 -36.89999999999966, -180 -37.34999999999967, -180.45 -37.34999999999967))\n",
      "POLYGON ((-180.45 -36.89999999999966, -180.45 -36.44999999999966, -180 -36.44999999999966, -180 -36.89999999999966, -180.45 -36.89999999999966))\n",
      "POLYGON ((-180.45 -36.44999999999966, -180.45 -35.99999999999966, -180 -35.99999999999966, -180 -36.44999999999966, -180.45 -36.44999999999966))\n",
      "POLYGON ((-180.45 -35.99999999999966, -180.45 -35.54999999999966, -180 -35.54999999999966, -180 -35.99999999999966, -180.45 -35.99999999999966))\n"
     ]
    },
    {
     "name": "stderr",
     "output_type": "stream",
     "text": [
      "\n",
      "KeyboardInterrupt\n",
      "\n"
     ]
    }
   ],
   "source": [
    "result = pd.DataFrame()\n",
    "\n",
    "# Iterate over each row in gdf_polygons\n",
    "for index, row in grid.iterrows():\n",
    "    # Get the polygon geometry\n",
    "    geometry = row['geometry']\n",
    "    # print(geometry)\n",
    "\n",
    "    # # Merge the polygon with df_dates to create multiple rows, one for each date\n",
    "    merged = pd.merge(row, df_dates, how='cross')\n",
    "    # print(merged)\n",
    "    # break\n",
    "    # # Add the merged DataFrame to the result\n",
    "    result = pd.concat([result, merged], ignore_index=True)\n",
    "\n",
    "# Convert the result DataFrame to a GeoDataFrame\n",
    "gdf_result = gpd.GeoDataFrame(result, geometry='geometry')"
   ],
   "metadata": {
    "collapsed": false
   }
  },
  {
   "cell_type": "code",
   "execution_count": null,
   "outputs": [],
   "source": [
    "gdf_result"
   ],
   "metadata": {
    "collapsed": false
   }
  },
  {
   "cell_type": "code",
   "execution_count": 60,
   "outputs": [],
   "source": [
    "gdf = gpd.GeoDataFrame(df, geometry=gpd.points_from_xy(df['longitude'], df['latitude']), crs='epsg:4326')"
   ],
   "metadata": {
    "collapsed": false
   }
  },
  {
   "cell_type": "code",
   "execution_count": 61,
   "outputs": [
    {
     "data": {
      "text/plain": "              id   mag                time   latitude   longitude  height  \\\n0              1  1.93 1995-01-28 00:58:26  37.439500 -118.687167   4.901   \n1              2  1.90 1995-01-28 00:55:35  34.418000 -116.486000   4.484   \n2              3  3.50 1995-01-28 00:53:30  36.045000   -1.075000  33.000   \n3              4  1.76 1995-01-28 00:44:05  40.454000 -123.886833   3.975   \n4              5  1.62 1995-01-28 00:39:14  35.033000 -117.683000  -0.935   \n...          ...   ...                 ...        ...         ...     ...   \n3292372  3292373  1.00 2023-03-21 01:22:45  58.205500 -155.127300  14.400   \n3292373  3292374  4.50 2023-03-21 01:20:14  38.997100   21.137600  10.000   \n3292374  3292375  1.00 2023-03-21 01:16:18  63.526200 -148.426700   6.800   \n3292375  3292376  1.06 2023-03-21 01:06:09  37.604000 -121.722833   5.990   \n3292376  3292377  0.44 2023-03-21 01:02:50  38.838501 -122.836830   1.470   \n\n                            geometry  \n0        POINT (-118.68717 37.43950)  \n1        POINT (-116.48600 34.41800)  \n2          POINT (-1.07500 36.04500)  \n3        POINT (-123.88683 40.45400)  \n4        POINT (-117.68300 35.03300)  \n...                              ...  \n3292372  POINT (-155.12730 58.20550)  \n3292373    POINT (21.13760 38.99710)  \n3292374  POINT (-148.42670 63.52620)  \n3292375  POINT (-121.72283 37.60400)  \n3292376  POINT (-122.83683 38.83850)  \n\n[3292377 rows x 7 columns]",
      "text/html": "<div>\n<style scoped>\n    .dataframe tbody tr th:only-of-type {\n        vertical-align: middle;\n    }\n\n    .dataframe tbody tr th {\n        vertical-align: top;\n    }\n\n    .dataframe thead th {\n        text-align: right;\n    }\n</style>\n<table border=\"1\" class=\"dataframe\">\n  <thead>\n    <tr style=\"text-align: right;\">\n      <th></th>\n      <th>id</th>\n      <th>mag</th>\n      <th>time</th>\n      <th>latitude</th>\n      <th>longitude</th>\n      <th>height</th>\n      <th>geometry</th>\n    </tr>\n  </thead>\n  <tbody>\n    <tr>\n      <th>0</th>\n      <td>1</td>\n      <td>1.93</td>\n      <td>1995-01-28 00:58:26</td>\n      <td>37.439500</td>\n      <td>-118.687167</td>\n      <td>4.901</td>\n      <td>POINT (-118.68717 37.43950)</td>\n    </tr>\n    <tr>\n      <th>1</th>\n      <td>2</td>\n      <td>1.90</td>\n      <td>1995-01-28 00:55:35</td>\n      <td>34.418000</td>\n      <td>-116.486000</td>\n      <td>4.484</td>\n      <td>POINT (-116.48600 34.41800)</td>\n    </tr>\n    <tr>\n      <th>2</th>\n      <td>3</td>\n      <td>3.50</td>\n      <td>1995-01-28 00:53:30</td>\n      <td>36.045000</td>\n      <td>-1.075000</td>\n      <td>33.000</td>\n      <td>POINT (-1.07500 36.04500)</td>\n    </tr>\n    <tr>\n      <th>3</th>\n      <td>4</td>\n      <td>1.76</td>\n      <td>1995-01-28 00:44:05</td>\n      <td>40.454000</td>\n      <td>-123.886833</td>\n      <td>3.975</td>\n      <td>POINT (-123.88683 40.45400)</td>\n    </tr>\n    <tr>\n      <th>4</th>\n      <td>5</td>\n      <td>1.62</td>\n      <td>1995-01-28 00:39:14</td>\n      <td>35.033000</td>\n      <td>-117.683000</td>\n      <td>-0.935</td>\n      <td>POINT (-117.68300 35.03300)</td>\n    </tr>\n    <tr>\n      <th>...</th>\n      <td>...</td>\n      <td>...</td>\n      <td>...</td>\n      <td>...</td>\n      <td>...</td>\n      <td>...</td>\n      <td>...</td>\n    </tr>\n    <tr>\n      <th>3292372</th>\n      <td>3292373</td>\n      <td>1.00</td>\n      <td>2023-03-21 01:22:45</td>\n      <td>58.205500</td>\n      <td>-155.127300</td>\n      <td>14.400</td>\n      <td>POINT (-155.12730 58.20550)</td>\n    </tr>\n    <tr>\n      <th>3292373</th>\n      <td>3292374</td>\n      <td>4.50</td>\n      <td>2023-03-21 01:20:14</td>\n      <td>38.997100</td>\n      <td>21.137600</td>\n      <td>10.000</td>\n      <td>POINT (21.13760 38.99710)</td>\n    </tr>\n    <tr>\n      <th>3292374</th>\n      <td>3292375</td>\n      <td>1.00</td>\n      <td>2023-03-21 01:16:18</td>\n      <td>63.526200</td>\n      <td>-148.426700</td>\n      <td>6.800</td>\n      <td>POINT (-148.42670 63.52620)</td>\n    </tr>\n    <tr>\n      <th>3292375</th>\n      <td>3292376</td>\n      <td>1.06</td>\n      <td>2023-03-21 01:06:09</td>\n      <td>37.604000</td>\n      <td>-121.722833</td>\n      <td>5.990</td>\n      <td>POINT (-121.72283 37.60400)</td>\n    </tr>\n    <tr>\n      <th>3292376</th>\n      <td>3292377</td>\n      <td>0.44</td>\n      <td>2023-03-21 01:02:50</td>\n      <td>38.838501</td>\n      <td>-122.836830</td>\n      <td>1.470</td>\n      <td>POINT (-122.83683 38.83850)</td>\n    </tr>\n  </tbody>\n</table>\n<p>3292377 rows × 7 columns</p>\n</div>"
     },
     "execution_count": 61,
     "metadata": {},
     "output_type": "execute_result"
    }
   ],
   "source": [
    "gdf"
   ],
   "metadata": {
    "collapsed": false
   }
  },
  {
   "cell_type": "code",
   "execution_count": 74,
   "outputs": [],
   "source": [
    "# get polygon for specific row\n",
    "joined_gdf = gpd.sjoin(gdf, grid, how=\"left\", op=\"within\")\n",
    "joined_gdf"
   ],
   "metadata": {
    "collapsed": false
   }
  },
  {
   "cell_type": "code",
   "execution_count": 65,
   "outputs": [
    {
     "ename": "ValueError",
     "evalue": "cannot convert float NaN to integer",
     "output_type": "error",
     "traceback": [
      "\u001B[1;31m---------------------------------------------------------------------------\u001B[0m",
      "\u001B[1;31mValueError\u001B[0m                                Traceback (most recent call last)",
      "Cell \u001B[1;32mIn[65], line 2\u001B[0m\n\u001B[0;32m      1\u001B[0m \u001B[38;5;66;03m# add polygon geometry\u001B[39;00m\n\u001B[1;32m----> 2\u001B[0m joined_gdf[\u001B[38;5;124m'\u001B[39m\u001B[38;5;124mpolygon_geometry\u001B[39m\u001B[38;5;124m'\u001B[39m] \u001B[38;5;241m=\u001B[39m joined_gdf[\u001B[38;5;124m'\u001B[39m\u001B[38;5;124mindex_right\u001B[39m\u001B[38;5;124m'\u001B[39m]\u001B[38;5;241m.\u001B[39mapply(\u001B[38;5;28;01mlambda\u001B[39;00m x: grid\u001B[38;5;241m.\u001B[39miloc[\u001B[38;5;28mint\u001B[39m(x)]\u001B[38;5;241m.\u001B[39mgeometry)\n",
      "File \u001B[1;32m~\\.conda\\envs\\backend\\Lib\\site-packages\\pandas\\core\\series.py:4760\u001B[0m, in \u001B[0;36mSeries.apply\u001B[1;34m(self, func, convert_dtype, args, by_row, **kwargs)\u001B[0m\n\u001B[0;32m   4625\u001B[0m \u001B[38;5;28;01mdef\u001B[39;00m \u001B[38;5;21mapply\u001B[39m(\n\u001B[0;32m   4626\u001B[0m     \u001B[38;5;28mself\u001B[39m,\n\u001B[0;32m   4627\u001B[0m     func: AggFuncType,\n\u001B[1;32m   (...)\u001B[0m\n\u001B[0;32m   4632\u001B[0m     \u001B[38;5;241m*\u001B[39m\u001B[38;5;241m*\u001B[39mkwargs,\n\u001B[0;32m   4633\u001B[0m ) \u001B[38;5;241m-\u001B[39m\u001B[38;5;241m>\u001B[39m DataFrame \u001B[38;5;241m|\u001B[39m Series:\n\u001B[0;32m   4634\u001B[0m \u001B[38;5;250m    \u001B[39m\u001B[38;5;124;03m\"\"\"\u001B[39;00m\n\u001B[0;32m   4635\u001B[0m \u001B[38;5;124;03m    Invoke function on values of Series.\u001B[39;00m\n\u001B[0;32m   4636\u001B[0m \n\u001B[1;32m   (...)\u001B[0m\n\u001B[0;32m   4751\u001B[0m \u001B[38;5;124;03m    dtype: float64\u001B[39;00m\n\u001B[0;32m   4752\u001B[0m \u001B[38;5;124;03m    \"\"\"\u001B[39;00m\n\u001B[0;32m   4753\u001B[0m     \u001B[38;5;28;01mreturn\u001B[39;00m SeriesApply(\n\u001B[0;32m   4754\u001B[0m         \u001B[38;5;28mself\u001B[39m,\n\u001B[0;32m   4755\u001B[0m         func,\n\u001B[0;32m   4756\u001B[0m         convert_dtype\u001B[38;5;241m=\u001B[39mconvert_dtype,\n\u001B[0;32m   4757\u001B[0m         by_row\u001B[38;5;241m=\u001B[39mby_row,\n\u001B[0;32m   4758\u001B[0m         args\u001B[38;5;241m=\u001B[39margs,\n\u001B[0;32m   4759\u001B[0m         kwargs\u001B[38;5;241m=\u001B[39mkwargs,\n\u001B[1;32m-> 4760\u001B[0m     )\u001B[38;5;241m.\u001B[39mapply()\n",
      "File \u001B[1;32m~\\.conda\\envs\\backend\\Lib\\site-packages\\pandas\\core\\apply.py:1207\u001B[0m, in \u001B[0;36mSeriesApply.apply\u001B[1;34m(self)\u001B[0m\n\u001B[0;32m   1204\u001B[0m     \u001B[38;5;28;01mreturn\u001B[39;00m \u001B[38;5;28mself\u001B[39m\u001B[38;5;241m.\u001B[39mapply_compat()\n\u001B[0;32m   1206\u001B[0m \u001B[38;5;66;03m# self.func is Callable\u001B[39;00m\n\u001B[1;32m-> 1207\u001B[0m \u001B[38;5;28;01mreturn\u001B[39;00m \u001B[38;5;28mself\u001B[39m\u001B[38;5;241m.\u001B[39mapply_standard()\n",
      "File \u001B[1;32m~\\.conda\\envs\\backend\\Lib\\site-packages\\pandas\\core\\apply.py:1287\u001B[0m, in \u001B[0;36mSeriesApply.apply_standard\u001B[1;34m(self)\u001B[0m\n\u001B[0;32m   1281\u001B[0m \u001B[38;5;66;03m# row-wise access\u001B[39;00m\n\u001B[0;32m   1282\u001B[0m \u001B[38;5;66;03m# apply doesn't have a `na_action` keyword and for backward compat reasons\u001B[39;00m\n\u001B[0;32m   1283\u001B[0m \u001B[38;5;66;03m# we need to give `na_action=\"ignore\"` for categorical data.\u001B[39;00m\n\u001B[0;32m   1284\u001B[0m \u001B[38;5;66;03m# TODO: remove the `na_action=\"ignore\"` when that default has been changed in\u001B[39;00m\n\u001B[0;32m   1285\u001B[0m \u001B[38;5;66;03m#  Categorical (GH51645).\u001B[39;00m\n\u001B[0;32m   1286\u001B[0m action \u001B[38;5;241m=\u001B[39m \u001B[38;5;124m\"\u001B[39m\u001B[38;5;124mignore\u001B[39m\u001B[38;5;124m\"\u001B[39m \u001B[38;5;28;01mif\u001B[39;00m \u001B[38;5;28misinstance\u001B[39m(obj\u001B[38;5;241m.\u001B[39mdtype, CategoricalDtype) \u001B[38;5;28;01melse\u001B[39;00m \u001B[38;5;28;01mNone\u001B[39;00m\n\u001B[1;32m-> 1287\u001B[0m mapped \u001B[38;5;241m=\u001B[39m obj\u001B[38;5;241m.\u001B[39m_map_values(\n\u001B[0;32m   1288\u001B[0m     mapper\u001B[38;5;241m=\u001B[39mcurried, na_action\u001B[38;5;241m=\u001B[39maction, convert\u001B[38;5;241m=\u001B[39m\u001B[38;5;28mself\u001B[39m\u001B[38;5;241m.\u001B[39mconvert_dtype\n\u001B[0;32m   1289\u001B[0m )\n\u001B[0;32m   1291\u001B[0m \u001B[38;5;28;01mif\u001B[39;00m \u001B[38;5;28mlen\u001B[39m(mapped) \u001B[38;5;129;01mand\u001B[39;00m \u001B[38;5;28misinstance\u001B[39m(mapped[\u001B[38;5;241m0\u001B[39m], ABCSeries):\n\u001B[0;32m   1292\u001B[0m     \u001B[38;5;66;03m# GH#43986 Need to do list(mapped) in order to get treated as nested\u001B[39;00m\n\u001B[0;32m   1293\u001B[0m     \u001B[38;5;66;03m#  See also GH#25959 regarding EA support\u001B[39;00m\n\u001B[0;32m   1294\u001B[0m     \u001B[38;5;28;01mreturn\u001B[39;00m obj\u001B[38;5;241m.\u001B[39m_constructor_expanddim(\u001B[38;5;28mlist\u001B[39m(mapped), index\u001B[38;5;241m=\u001B[39mobj\u001B[38;5;241m.\u001B[39mindex)\n",
      "File \u001B[1;32m~\\.conda\\envs\\backend\\Lib\\site-packages\\pandas\\core\\base.py:921\u001B[0m, in \u001B[0;36mIndexOpsMixin._map_values\u001B[1;34m(self, mapper, na_action, convert)\u001B[0m\n\u001B[0;32m    918\u001B[0m \u001B[38;5;28;01mif\u001B[39;00m \u001B[38;5;28misinstance\u001B[39m(arr, ExtensionArray):\n\u001B[0;32m    919\u001B[0m     \u001B[38;5;28;01mreturn\u001B[39;00m arr\u001B[38;5;241m.\u001B[39mmap(mapper, na_action\u001B[38;5;241m=\u001B[39mna_action)\n\u001B[1;32m--> 921\u001B[0m \u001B[38;5;28;01mreturn\u001B[39;00m algorithms\u001B[38;5;241m.\u001B[39mmap_array(arr, mapper, na_action\u001B[38;5;241m=\u001B[39mna_action, convert\u001B[38;5;241m=\u001B[39mconvert)\n",
      "File \u001B[1;32m~\\.conda\\envs\\backend\\Lib\\site-packages\\pandas\\core\\algorithms.py:1814\u001B[0m, in \u001B[0;36mmap_array\u001B[1;34m(arr, mapper, na_action, convert)\u001B[0m\n\u001B[0;32m   1812\u001B[0m values \u001B[38;5;241m=\u001B[39m arr\u001B[38;5;241m.\u001B[39mastype(\u001B[38;5;28mobject\u001B[39m, copy\u001B[38;5;241m=\u001B[39m\u001B[38;5;28;01mFalse\u001B[39;00m)\n\u001B[0;32m   1813\u001B[0m \u001B[38;5;28;01mif\u001B[39;00m na_action \u001B[38;5;129;01mis\u001B[39;00m \u001B[38;5;28;01mNone\u001B[39;00m:\n\u001B[1;32m-> 1814\u001B[0m     \u001B[38;5;28;01mreturn\u001B[39;00m lib\u001B[38;5;241m.\u001B[39mmap_infer(values, mapper, convert\u001B[38;5;241m=\u001B[39mconvert)\n\u001B[0;32m   1815\u001B[0m \u001B[38;5;28;01melse\u001B[39;00m:\n\u001B[0;32m   1816\u001B[0m     \u001B[38;5;28;01mreturn\u001B[39;00m lib\u001B[38;5;241m.\u001B[39mmap_infer_mask(\n\u001B[0;32m   1817\u001B[0m         values, mapper, mask\u001B[38;5;241m=\u001B[39misna(values)\u001B[38;5;241m.\u001B[39mview(np\u001B[38;5;241m.\u001B[39muint8), convert\u001B[38;5;241m=\u001B[39mconvert\n\u001B[0;32m   1818\u001B[0m     )\n",
      "File \u001B[1;32mlib.pyx:2917\u001B[0m, in \u001B[0;36mpandas._libs.lib.map_infer\u001B[1;34m()\u001B[0m\n",
      "Cell \u001B[1;32mIn[65], line 2\u001B[0m, in \u001B[0;36m<lambda>\u001B[1;34m(x)\u001B[0m\n\u001B[0;32m      1\u001B[0m \u001B[38;5;66;03m# add polygon geometry\u001B[39;00m\n\u001B[1;32m----> 2\u001B[0m joined_gdf[\u001B[38;5;124m'\u001B[39m\u001B[38;5;124mpolygon_geometry\u001B[39m\u001B[38;5;124m'\u001B[39m] \u001B[38;5;241m=\u001B[39m joined_gdf[\u001B[38;5;124m'\u001B[39m\u001B[38;5;124mindex_right\u001B[39m\u001B[38;5;124m'\u001B[39m]\u001B[38;5;241m.\u001B[39mapply(\u001B[38;5;28;01mlambda\u001B[39;00m x: grid\u001B[38;5;241m.\u001B[39miloc[\u001B[38;5;28mint\u001B[39m(x)]\u001B[38;5;241m.\u001B[39mgeometry)\n",
      "\u001B[1;31mValueError\u001B[0m: cannot convert float NaN to integer"
     ]
    }
   ],
   "source": [
    "# add polygon geometry\n",
    "joined_gdf['polygon_geometry'] = joined_gdf['index_right'].apply(lambda x: grid.iloc[int(x)].geometry)"
   ],
   "metadata": {
    "collapsed": false
   }
  },
  {
   "cell_type": "code",
   "execution_count": 81,
   "outputs": [],
   "source": [
    "joined_gdf"
   ],
   "metadata": {
    "collapsed": false
   }
  },
  {
   "cell_type": "code",
   "execution_count": null,
   "outputs": [],
   "source": [],
   "metadata": {
    "collapsed": false
   }
  },
  {
   "cell_type": "code",
   "execution_count": 30,
   "outputs": [
    {
     "data": {
      "text/plain": "              id  mag                time  latitude  longitude  height  \\\n22727      22674  4.6 1995-06-13 00:18:48   19.5290  -109.1800    10.0   \n41914      41802  4.4 1995-09-13 15:54:10   19.3610  -108.3430    10.0   \n61399      61246  4.1 1995-11-28 14:18:06   19.6720  -108.3100    10.0   \n78551      78378  3.8 1996-02-18 22:06:40   19.8310  -109.1930    33.0   \n79421      79249  4.7 1996-02-22 21:13:43   19.7140  -109.2620    10.0   \n...          ...  ...                 ...       ...        ...     ...   \n3249833  3249810  4.1 2022-12-05 19:21:15   19.5245  -109.0216    10.0   \n3250129  3250104  4.5 2022-12-05 02:33:33   19.4999  -109.2055    10.0   \n3253593  3253555  4.2 2022-12-14 09:46:19   19.4670  -108.3959    10.0   \n3256557  3256521  5.3 2022-12-21 17:54:24   19.4737  -108.6682    10.0   \n3263299  3263280  4.3 2023-01-07 11:45:02   19.5168  -109.2864    10.0   \n\n                            geometry  index_right  \n22727    POINT (-109.18000 19.52900)       1050.0  \n41914    POINT (-108.34300 19.36100)       1050.0  \n61399    POINT (-108.31000 19.67200)       1050.0  \n78551    POINT (-109.19300 19.83100)       1050.0  \n79421    POINT (-109.26200 19.71400)       1050.0  \n...                              ...          ...  \n3249833  POINT (-109.02160 19.52450)       1050.0  \n3250129  POINT (-109.20550 19.49990)       1050.0  \n3253593  POINT (-108.39590 19.46700)       1050.0  \n3256557  POINT (-108.66820 19.47370)       1050.0  \n3263299  POINT (-109.28640 19.51680)       1050.0  \n\n[284 rows x 8 columns]",
      "text/html": "<div>\n<style scoped>\n    .dataframe tbody tr th:only-of-type {\n        vertical-align: middle;\n    }\n\n    .dataframe tbody tr th {\n        vertical-align: top;\n    }\n\n    .dataframe thead th {\n        text-align: right;\n    }\n</style>\n<table border=\"1\" class=\"dataframe\">\n  <thead>\n    <tr style=\"text-align: right;\">\n      <th></th>\n      <th>id</th>\n      <th>mag</th>\n      <th>time</th>\n      <th>latitude</th>\n      <th>longitude</th>\n      <th>height</th>\n      <th>geometry</th>\n      <th>index_right</th>\n    </tr>\n  </thead>\n  <tbody>\n    <tr>\n      <th>22727</th>\n      <td>22674</td>\n      <td>4.6</td>\n      <td>1995-06-13 00:18:48</td>\n      <td>19.5290</td>\n      <td>-109.1800</td>\n      <td>10.0</td>\n      <td>POINT (-109.18000 19.52900)</td>\n      <td>1050.0</td>\n    </tr>\n    <tr>\n      <th>41914</th>\n      <td>41802</td>\n      <td>4.4</td>\n      <td>1995-09-13 15:54:10</td>\n      <td>19.3610</td>\n      <td>-108.3430</td>\n      <td>10.0</td>\n      <td>POINT (-108.34300 19.36100)</td>\n      <td>1050.0</td>\n    </tr>\n    <tr>\n      <th>61399</th>\n      <td>61246</td>\n      <td>4.1</td>\n      <td>1995-11-28 14:18:06</td>\n      <td>19.6720</td>\n      <td>-108.3100</td>\n      <td>10.0</td>\n      <td>POINT (-108.31000 19.67200)</td>\n      <td>1050.0</td>\n    </tr>\n    <tr>\n      <th>78551</th>\n      <td>78378</td>\n      <td>3.8</td>\n      <td>1996-02-18 22:06:40</td>\n      <td>19.8310</td>\n      <td>-109.1930</td>\n      <td>33.0</td>\n      <td>POINT (-109.19300 19.83100)</td>\n      <td>1050.0</td>\n    </tr>\n    <tr>\n      <th>79421</th>\n      <td>79249</td>\n      <td>4.7</td>\n      <td>1996-02-22 21:13:43</td>\n      <td>19.7140</td>\n      <td>-109.2620</td>\n      <td>10.0</td>\n      <td>POINT (-109.26200 19.71400)</td>\n      <td>1050.0</td>\n    </tr>\n    <tr>\n      <th>...</th>\n      <td>...</td>\n      <td>...</td>\n      <td>...</td>\n      <td>...</td>\n      <td>...</td>\n      <td>...</td>\n      <td>...</td>\n      <td>...</td>\n    </tr>\n    <tr>\n      <th>3249833</th>\n      <td>3249810</td>\n      <td>4.1</td>\n      <td>2022-12-05 19:21:15</td>\n      <td>19.5245</td>\n      <td>-109.0216</td>\n      <td>10.0</td>\n      <td>POINT (-109.02160 19.52450)</td>\n      <td>1050.0</td>\n    </tr>\n    <tr>\n      <th>3250129</th>\n      <td>3250104</td>\n      <td>4.5</td>\n      <td>2022-12-05 02:33:33</td>\n      <td>19.4999</td>\n      <td>-109.2055</td>\n      <td>10.0</td>\n      <td>POINT (-109.20550 19.49990)</td>\n      <td>1050.0</td>\n    </tr>\n    <tr>\n      <th>3253593</th>\n      <td>3253555</td>\n      <td>4.2</td>\n      <td>2022-12-14 09:46:19</td>\n      <td>19.4670</td>\n      <td>-108.3959</td>\n      <td>10.0</td>\n      <td>POINT (-108.39590 19.46700)</td>\n      <td>1050.0</td>\n    </tr>\n    <tr>\n      <th>3256557</th>\n      <td>3256521</td>\n      <td>5.3</td>\n      <td>2022-12-21 17:54:24</td>\n      <td>19.4737</td>\n      <td>-108.6682</td>\n      <td>10.0</td>\n      <td>POINT (-108.66820 19.47370)</td>\n      <td>1050.0</td>\n    </tr>\n    <tr>\n      <th>3263299</th>\n      <td>3263280</td>\n      <td>4.3</td>\n      <td>2023-01-07 11:45:02</td>\n      <td>19.5168</td>\n      <td>-109.2864</td>\n      <td>10.0</td>\n      <td>POINT (-109.28640 19.51680)</td>\n      <td>1050.0</td>\n    </tr>\n  </tbody>\n</table>\n<p>284 rows × 8 columns</p>\n</div>"
     },
     "execution_count": 30,
     "metadata": {},
     "output_type": "execute_result"
    }
   ],
   "source": [
    "# joined[['index_right'] == 1055]\n",
    "california_polygon = joined.loc[joined['index_right'] == 1050]\n",
    "# california_polygon.to_datetime(df['date']).cali.date"
   ],
   "metadata": {
    "collapsed": false
   }
  },
  {
   "cell_type": "code",
   "execution_count": 76,
   "outputs": [],
   "source": [
    "california_polygon = joined.loc[joined['index_right'] == 952]  # california\n",
    "# california_polygon.to_datetime(df['date']).cali.date"
   ],
   "metadata": {
    "collapsed": false
   }
  },
  {
   "cell_type": "code",
   "execution_count": 71,
   "outputs": [],
   "source": [
    "california_polygon = joined.loc[joined['index_right'] == 2842]  # wlochy\n",
    "# california_polygon.to_datetime(df['date']).cali.date"
   ],
   "metadata": {
    "collapsed": false
   }
  },
  {
   "cell_type": "code",
   "execution_count": 74,
   "outputs": [],
   "source": [
    "california_polygon = joined.loc[joined['index_right'] == 4573]  # japonia\n",
    "# california_polygon.to_datetime(df['date']).cali.date"
   ],
   "metadata": {
    "collapsed": false
   }
  },
  {
   "cell_type": "code",
   "execution_count": 124,
   "outputs": [
    {
     "data": {
      "text/plain": "           date   mag\n0    1995-02-08  3.39\n1    1995-02-15  3.20\n2    1995-02-19  3.50\n3    1995-02-22  3.11\n4    1995-02-26  3.20\n...         ...   ...\n2155 2023-02-02  3.11\n2156 2023-02-13  3.24\n2157 2023-02-28  3.56\n2158 2023-03-13  3.09\n2159 2023-03-18  3.56\n\n[2160 rows x 2 columns]",
      "text/html": "<div>\n<style scoped>\n    .dataframe tbody tr th:only-of-type {\n        vertical-align: middle;\n    }\n\n    .dataframe tbody tr th {\n        vertical-align: top;\n    }\n\n    .dataframe thead th {\n        text-align: right;\n    }\n</style>\n<table border=\"1\" class=\"dataframe\">\n  <thead>\n    <tr style=\"text-align: right;\">\n      <th></th>\n      <th>date</th>\n      <th>mag</th>\n    </tr>\n  </thead>\n  <tbody>\n    <tr>\n      <th>0</th>\n      <td>1995-02-08</td>\n      <td>3.39</td>\n    </tr>\n    <tr>\n      <th>1</th>\n      <td>1995-02-15</td>\n      <td>3.20</td>\n    </tr>\n    <tr>\n      <th>2</th>\n      <td>1995-02-19</td>\n      <td>3.50</td>\n    </tr>\n    <tr>\n      <th>3</th>\n      <td>1995-02-22</td>\n      <td>3.11</td>\n    </tr>\n    <tr>\n      <th>4</th>\n      <td>1995-02-26</td>\n      <td>3.20</td>\n    </tr>\n    <tr>\n      <th>...</th>\n      <td>...</td>\n      <td>...</td>\n    </tr>\n    <tr>\n      <th>2155</th>\n      <td>2023-02-02</td>\n      <td>3.11</td>\n    </tr>\n    <tr>\n      <th>2156</th>\n      <td>2023-02-13</td>\n      <td>3.24</td>\n    </tr>\n    <tr>\n      <th>2157</th>\n      <td>2023-02-28</td>\n      <td>3.56</td>\n    </tr>\n    <tr>\n      <th>2158</th>\n      <td>2023-03-13</td>\n      <td>3.09</td>\n    </tr>\n    <tr>\n      <th>2159</th>\n      <td>2023-03-18</td>\n      <td>3.56</td>\n    </tr>\n  </tbody>\n</table>\n<p>2160 rows × 2 columns</p>\n</div>"
     },
     "execution_count": 124,
     "metadata": {},
     "output_type": "execute_result"
    }
   ],
   "source": [
    "# df_with_dates['date']\n",
    "max_values = df_with_dates.groupby('date')['mag'].max()\n",
    "max_values\n",
    "df_with_dates = max_values.reset_index()\n",
    "\n",
    "# Rename columns if needed\n",
    "df_with_dates.columns = ['date', 'mag']\n",
    "df_with_dates"
   ],
   "metadata": {
    "collapsed": false
   }
  },
  {
   "cell_type": "code",
   "execution_count": 128,
   "outputs": [
    {
     "data": {
      "text/plain": "            date   mag  is_earthquake\n0     1995-01-21  0.00              0\n1     1995-01-22  0.00              0\n2     1995-01-23  0.00              0\n3     1995-01-24  0.00              0\n4     1995-01-25  0.00              0\n...          ...   ...            ...\n10282 2023-03-17  0.00              0\n10283 2023-03-18  3.56              1\n10284 2023-03-19  0.00              0\n10285 2023-03-20  0.00              0\n10286 2023-03-21  0.00              0\n\n[10287 rows x 3 columns]",
      "text/html": "<div>\n<style scoped>\n    .dataframe tbody tr th:only-of-type {\n        vertical-align: middle;\n    }\n\n    .dataframe tbody tr th {\n        vertical-align: top;\n    }\n\n    .dataframe thead th {\n        text-align: right;\n    }\n</style>\n<table border=\"1\" class=\"dataframe\">\n  <thead>\n    <tr style=\"text-align: right;\">\n      <th></th>\n      <th>date</th>\n      <th>mag</th>\n      <th>is_earthquake</th>\n    </tr>\n  </thead>\n  <tbody>\n    <tr>\n      <th>0</th>\n      <td>1995-01-21</td>\n      <td>0.00</td>\n      <td>0</td>\n    </tr>\n    <tr>\n      <th>1</th>\n      <td>1995-01-22</td>\n      <td>0.00</td>\n      <td>0</td>\n    </tr>\n    <tr>\n      <th>2</th>\n      <td>1995-01-23</td>\n      <td>0.00</td>\n      <td>0</td>\n    </tr>\n    <tr>\n      <th>3</th>\n      <td>1995-01-24</td>\n      <td>0.00</td>\n      <td>0</td>\n    </tr>\n    <tr>\n      <th>4</th>\n      <td>1995-01-25</td>\n      <td>0.00</td>\n      <td>0</td>\n    </tr>\n    <tr>\n      <th>...</th>\n      <td>...</td>\n      <td>...</td>\n      <td>...</td>\n    </tr>\n    <tr>\n      <th>10282</th>\n      <td>2023-03-17</td>\n      <td>0.00</td>\n      <td>0</td>\n    </tr>\n    <tr>\n      <th>10283</th>\n      <td>2023-03-18</td>\n      <td>3.56</td>\n      <td>1</td>\n    </tr>\n    <tr>\n      <th>10284</th>\n      <td>2023-03-19</td>\n      <td>0.00</td>\n      <td>0</td>\n    </tr>\n    <tr>\n      <th>10285</th>\n      <td>2023-03-20</td>\n      <td>0.00</td>\n      <td>0</td>\n    </tr>\n    <tr>\n      <th>10286</th>\n      <td>2023-03-21</td>\n      <td>0.00</td>\n      <td>0</td>\n    </tr>\n  </tbody>\n</table>\n<p>10287 rows × 3 columns</p>\n</div>"
     },
     "execution_count": 128,
     "metadata": {},
     "output_type": "execute_result"
    }
   ],
   "source": [
    "from copy import deepcopy\n",
    "# df_with_dates = deepcopy(california_polygon)\n",
    "# df_with_dates['date'] = df_with_dates['time'].dt.date\n",
    "# df_with_dates['date']\n",
    "# df_with_dates['date'] = pd.to_datetime(df_with_dates['date'])\n",
    "# df_with_dates['date']\n",
    "\n",
    "earthquakes_all_dates = df_dates.merge(df_with_dates, how='left', left_on='date', right_on='date')\n",
    "# earthquakes_all_dates[earthquakes_all_dates['mag'] == np.nan]['mag'] = 0\n",
    "earthquakes_all_dates['mag'].replace(np.nan, 0, inplace=True)\n",
    "earthquakes_all_dates['is_earthquake'] = earthquakes_all_dates['mag'].apply(lambda x: 1 if x > 0 else 0)\n",
    "earthquakes_all_dates"
   ],
   "metadata": {
    "collapsed": false
   }
  },
  {
   "cell_type": "code",
   "execution_count": 98,
   "outputs": [
    {
     "data": {
      "text/plain": "<matplotlib.collections.PathCollection at 0x12eba455650>"
     },
     "execution_count": 98,
     "metadata": {},
     "output_type": "execute_result"
    },
    {
     "data": {
      "text/plain": "<Figure size 2000x300 with 1 Axes>",
      "image/png": "[encoded data removed]"
     },
     "metadata": {},
     "output_type": "display_data"
    }
   ],
   "source": [
    "import matplotlib.pyplot as plt\n",
    "from datetime import date\n",
    "# plt.show(california_polygon['time'])\n",
    "# plt.scatter(california_polygon[\"time\"], california_polygon[\"mag\"])\n",
    "# california_polygon[california_polygon['mag'] > 5].shape[0]*[1]\n",
    "plt.rcParams[\"figure.figsize\"] = (20,3)\n",
    "plt.scatter(\n",
    "    california_polygon[(california_polygon['mag'] > 0)& (california_polygon['time'].dt.date > date(2021, 1, 1))]['time'],\n",
    "    california_polygon[(california_polygon['mag'] > 0)& (california_polygon['time'].dt.date > date(2021, 1, 1))].shape[0]*[1])"
   ],
   "metadata": {
    "collapsed": false
   }
  },
  {
   "cell_type": "code",
   "execution_count": 134,
   "outputs": [
    {
     "data": {
      "text/plain": "9478   2021-01-02\n9479   2021-01-03\n9480   2021-01-04\n9481   2021-01-05\n9482   2021-01-06\n          ...    \n9896   2022-02-24\n9897   2022-02-25\n9898   2022-02-26\n9899   2022-02-27\n9900   2022-02-28\nName: date, Length: 423, dtype: datetime64[ns]"
     },
     "execution_count": 134,
     "metadata": {},
     "output_type": "execute_result"
    }
   ],
   "source": [
    "earthquakes_2021 = earthquakes_all_dates[(earthquakes_all_dates['date'].dt.date > date(2021, 1, 1)) & (earthquakes_all_dates['date'].dt.date < date(2022, 3, 1))]\n",
    "earthquakes_2021['date']\n",
    "# earthquakes_2021_series = earthquakes_2021.set_index('date')['is_earthquake']\n",
    "# earthquakes_2021_series\n",
    "# plt.scatter(\n",
    "    # earthquakes_all_dates[(earthquakes_all_dates['date'].dt.date > date(2021, 1, 1))]['date'],\n",
    "    # earthquakes_all_dates[(earthquakes_all_dates['date'].dt.date > date(2021, 1, 1))]['is_earthquake'])"
   ],
   "metadata": {
    "collapsed": false
   }
  },
  {
   "cell_type": "code",
   "execution_count": 137,
   "outputs": [
    {
     "data": {
      "text/plain": "           date  mag  is_earthquake\n9842 2022-01-01  0.0              0\n9843 2022-01-02  0.0              0\n9844 2022-01-03  0.0              0\n9845 2022-01-04  0.0              0\n9846 2022-01-05  0.0              0",
      "text/html": "<div>\n<style scoped>\n    .dataframe tbody tr th:only-of-type {\n        vertical-align: middle;\n    }\n\n    .dataframe tbody tr th {\n        vertical-align: top;\n    }\n\n    .dataframe thead th {\n        text-align: right;\n    }\n</style>\n<table border=\"1\" class=\"dataframe\">\n  <thead>\n    <tr style=\"text-align: right;\">\n      <th></th>\n      <th>date</th>\n      <th>mag</th>\n      <th>is_earthquake</th>\n    </tr>\n  </thead>\n  <tbody>\n    <tr>\n      <th>9842</th>\n      <td>2022-01-01</td>\n      <td>0.0</td>\n      <td>0</td>\n    </tr>\n    <tr>\n      <th>9843</th>\n      <td>2022-01-02</td>\n      <td>0.0</td>\n      <td>0</td>\n    </tr>\n    <tr>\n      <th>9844</th>\n      <td>2022-01-03</td>\n      <td>0.0</td>\n      <td>0</td>\n    </tr>\n    <tr>\n      <th>9845</th>\n      <td>2022-01-04</td>\n      <td>0.0</td>\n      <td>0</td>\n    </tr>\n    <tr>\n      <th>9846</th>\n      <td>2022-01-05</td>\n      <td>0.0</td>\n      <td>0</td>\n    </tr>\n  </tbody>\n</table>\n</div>"
     },
     "execution_count": 137,
     "metadata": {},
     "output_type": "execute_result"
    }
   ],
   "source": [
    "train_data, test_data = earthquakes_2021.iloc[:364], earthquakes_2021.iloc[364:]\n"
   ],
   "metadata": {
    "collapsed": false
   }
  },
  {
   "cell_type": "code",
   "execution_count": 138,
   "outputs": [],
   "source": [
    "from statsmodels.tsa.arima_model import ARIMA\n",
    "import pmdarima as pm"
   ],
   "metadata": {
    "collapsed": false
   }
  },
  {
   "cell_type": "code",
   "execution_count": 140,
   "outputs": [
    {
     "name": "stderr",
     "output_type": "stream",
     "text": [
      "C:\\Users\\sirko\\.conda\\envs\\backend\\Lib\\site-packages\\sklearn\\utils\\validation.py:605: FutureWarning: is_sparse is deprecated and will be removed in a future version. Check `isinstance(dtype, pd.SparseDtype)` instead.\n",
      "  if is_sparse(pd_dtype):\n",
      "C:\\Users\\sirko\\.conda\\envs\\backend\\Lib\\site-packages\\sklearn\\utils\\validation.py:614: FutureWarning: is_sparse is deprecated and will be removed in a future version. Check `isinstance(dtype, pd.SparseDtype)` instead.\n",
      "  if is_sparse(pd_dtype) or not is_extension_array_dtype(pd_dtype):\n",
      "C:\\Users\\sirko\\.conda\\envs\\backend\\Lib\\site-packages\\sklearn\\utils\\validation.py:605: FutureWarning: is_sparse is deprecated and will be removed in a future version. Check `isinstance(dtype, pd.SparseDtype)` instead.\n",
      "  if is_sparse(pd_dtype):\n",
      "C:\\Users\\sirko\\.conda\\envs\\backend\\Lib\\site-packages\\sklearn\\utils\\validation.py:614: FutureWarning: is_sparse is deprecated and will be removed in a future version. Check `isinstance(dtype, pd.SparseDtype)` instead.\n",
      "  if is_sparse(pd_dtype) or not is_extension_array_dtype(pd_dtype):\n",
      "C:\\Users\\sirko\\.conda\\envs\\backend\\Lib\\site-packages\\sklearn\\utils\\validation.py:605: FutureWarning: is_sparse is deprecated and will be removed in a future version. Check `isinstance(dtype, pd.SparseDtype)` instead.\n",
      "  if is_sparse(pd_dtype):\n",
      "C:\\Users\\sirko\\.conda\\envs\\backend\\Lib\\site-packages\\sklearn\\utils\\validation.py:614: FutureWarning: is_sparse is deprecated and will be removed in a future version. Check `isinstance(dtype, pd.SparseDtype)` instead.\n",
      "  if is_sparse(pd_dtype) or not is_extension_array_dtype(pd_dtype):\n",
      "C:\\Users\\sirko\\.conda\\envs\\backend\\Lib\\site-packages\\sklearn\\utils\\validation.py:605: FutureWarning: is_sparse is deprecated and will be removed in a future version. Check `isinstance(dtype, pd.SparseDtype)` instead.\n",
      "  if is_sparse(pd_dtype):\n",
      "C:\\Users\\sirko\\.conda\\envs\\backend\\Lib\\site-packages\\sklearn\\utils\\validation.py:614: FutureWarning: is_sparse is deprecated and will be removed in a future version. Check `isinstance(dtype, pd.SparseDtype)` instead.\n",
      "  if is_sparse(pd_dtype) or not is_extension_array_dtype(pd_dtype):\n",
      "C:\\Users\\sirko\\.conda\\envs\\backend\\Lib\\site-packages\\sklearn\\utils\\validation.py:605: FutureWarning: is_sparse is deprecated and will be removed in a future version. Check `isinstance(dtype, pd.SparseDtype)` instead.\n",
      "  if is_sparse(pd_dtype):\n",
      "C:\\Users\\sirko\\.conda\\envs\\backend\\Lib\\site-packages\\sklearn\\utils\\validation.py:614: FutureWarning: is_sparse is deprecated and will be removed in a future version. Check `isinstance(dtype, pd.SparseDtype)` instead.\n",
      "  if is_sparse(pd_dtype) or not is_extension_array_dtype(pd_dtype):\n",
      "C:\\Users\\sirko\\.conda\\envs\\backend\\Lib\\site-packages\\sklearn\\utils\\validation.py:605: FutureWarning: is_sparse is deprecated and will be removed in a future version. Check `isinstance(dtype, pd.SparseDtype)` instead.\n",
      "  if is_sparse(pd_dtype):\n",
      "C:\\Users\\sirko\\.conda\\envs\\backend\\Lib\\site-packages\\sklearn\\utils\\validation.py:614: FutureWarning: is_sparse is deprecated and will be removed in a future version. Check `isinstance(dtype, pd.SparseDtype)` instead.\n",
      "  if is_sparse(pd_dtype) or not is_extension_array_dtype(pd_dtype):\n",
      "C:\\Users\\sirko\\.conda\\envs\\backend\\Lib\\site-packages\\sklearn\\utils\\validation.py:605: FutureWarning: is_sparse is deprecated and will be removed in a future version. Check `isinstance(dtype, pd.SparseDtype)` instead.\n",
      "  if is_sparse(pd_dtype):\n",
      "C:\\Users\\sirko\\.conda\\envs\\backend\\Lib\\site-packages\\sklearn\\utils\\validation.py:614: FutureWarning: is_sparse is deprecated and will be removed in a future version. Check `isinstance(dtype, pd.SparseDtype)` instead.\n",
      "  if is_sparse(pd_dtype) or not is_extension_array_dtype(pd_dtype):\n",
      "C:\\Users\\sirko\\.conda\\envs\\backend\\Lib\\site-packages\\sklearn\\utils\\validation.py:605: FutureWarning: is_sparse is deprecated and will be removed in a future version. Check `isinstance(dtype, pd.SparseDtype)` instead.\n",
      "  if is_sparse(pd_dtype):\n",
      "C:\\Users\\sirko\\.conda\\envs\\backend\\Lib\\site-packages\\sklearn\\utils\\validation.py:614: FutureWarning: is_sparse is deprecated and will be removed in a future version. Check `isinstance(dtype, pd.SparseDtype)` instead.\n",
      "  if is_sparse(pd_dtype) or not is_extension_array_dtype(pd_dtype):\n",
      "C:\\Users\\sirko\\.conda\\envs\\backend\\Lib\\site-packages\\sklearn\\utils\\validation.py:605: FutureWarning: is_sparse is deprecated and will be removed in a future version. Check `isinstance(dtype, pd.SparseDtype)` instead.\n",
      "  if is_sparse(pd_dtype):\n",
      "C:\\Users\\sirko\\.conda\\envs\\backend\\Lib\\site-packages\\sklearn\\utils\\validation.py:614: FutureWarning: is_sparse is deprecated and will be removed in a future version. Check `isinstance(dtype, pd.SparseDtype)` instead.\n",
      "  if is_sparse(pd_dtype) or not is_extension_array_dtype(pd_dtype):\n",
      "C:\\Users\\sirko\\.conda\\envs\\backend\\Lib\\site-packages\\sklearn\\utils\\validation.py:605: FutureWarning: is_sparse is deprecated and will be removed in a future version. Check `isinstance(dtype, pd.SparseDtype)` instead.\n",
      "  if is_sparse(pd_dtype):\n",
      "C:\\Users\\sirko\\.conda\\envs\\backend\\Lib\\site-packages\\sklearn\\utils\\validation.py:614: FutureWarning: is_sparse is deprecated and will be removed in a future version. Check `isinstance(dtype, pd.SparseDtype)` instead.\n",
      "  if is_sparse(pd_dtype) or not is_extension_array_dtype(pd_dtype):\n"
     ]
    },
    {
     "name": "stdout",
     "output_type": "stream",
     "text": [
      "Performing stepwise search to minimize aic\n",
      " ARIMA(0,0,0)(0,0,0)[0]             : AIC=492.469, Time=0.09 sec\n",
      " ARIMA(1,0,0)(0,0,0)[0]             : AIC=464.343, Time=0.05 sec\n",
      " ARIMA(0,0,1)(0,0,0)[0]             : AIC=471.264, Time=0.05 sec\n",
      " ARIMA(2,0,0)(0,0,0)[0]             : AIC=457.769, Time=0.08 sec\n",
      " ARIMA(3,0,0)(0,0,0)[0]             : AIC=447.791, Time=0.10 sec\n"
     ]
    },
    {
     "name": "stderr",
     "output_type": "stream",
     "text": [
      "C:\\Users\\sirko\\.conda\\envs\\backend\\Lib\\site-packages\\sklearn\\utils\\validation.py:605: FutureWarning: is_sparse is deprecated and will be removed in a future version. Check `isinstance(dtype, pd.SparseDtype)` instead.\n",
      "  if is_sparse(pd_dtype):\n",
      "C:\\Users\\sirko\\.conda\\envs\\backend\\Lib\\site-packages\\sklearn\\utils\\validation.py:614: FutureWarning: is_sparse is deprecated and will be removed in a future version. Check `isinstance(dtype, pd.SparseDtype)` instead.\n",
      "  if is_sparse(pd_dtype) or not is_extension_array_dtype(pd_dtype):\n",
      "C:\\Users\\sirko\\.conda\\envs\\backend\\Lib\\site-packages\\sklearn\\utils\\validation.py:605: FutureWarning: is_sparse is deprecated and will be removed in a future version. Check `isinstance(dtype, pd.SparseDtype)` instead.\n",
      "  if is_sparse(pd_dtype):\n",
      "C:\\Users\\sirko\\.conda\\envs\\backend\\Lib\\site-packages\\sklearn\\utils\\validation.py:614: FutureWarning: is_sparse is deprecated and will be removed in a future version. Check `isinstance(dtype, pd.SparseDtype)` instead.\n",
      "  if is_sparse(pd_dtype) or not is_extension_array_dtype(pd_dtype):\n"
     ]
    },
    {
     "name": "stdout",
     "output_type": "stream",
     "text": [
      " ARIMA(4,0,0)(0,0,0)[0]             : AIC=440.271, Time=0.14 sec\n",
      " ARIMA(5,0,0)(0,0,0)[0]             : AIC=429.845, Time=0.20 sec\n"
     ]
    },
    {
     "name": "stderr",
     "output_type": "stream",
     "text": [
      "C:\\Users\\sirko\\.conda\\envs\\backend\\Lib\\site-packages\\sklearn\\utils\\validation.py:605: FutureWarning: is_sparse is deprecated and will be removed in a future version. Check `isinstance(dtype, pd.SparseDtype)` instead.\n",
      "  if is_sparse(pd_dtype):\n",
      "C:\\Users\\sirko\\.conda\\envs\\backend\\Lib\\site-packages\\sklearn\\utils\\validation.py:614: FutureWarning: is_sparse is deprecated and will be removed in a future version. Check `isinstance(dtype, pd.SparseDtype)` instead.\n",
      "  if is_sparse(pd_dtype) or not is_extension_array_dtype(pd_dtype):\n",
      "C:\\Users\\sirko\\.conda\\envs\\backend\\Lib\\site-packages\\sklearn\\utils\\validation.py:605: FutureWarning: is_sparse is deprecated and will be removed in a future version. Check `isinstance(dtype, pd.SparseDtype)` instead.\n",
      "  if is_sparse(pd_dtype):\n",
      "C:\\Users\\sirko\\.conda\\envs\\backend\\Lib\\site-packages\\sklearn\\utils\\validation.py:614: FutureWarning: is_sparse is deprecated and will be removed in a future version. Check `isinstance(dtype, pd.SparseDtype)` instead.\n",
      "  if is_sparse(pd_dtype) or not is_extension_array_dtype(pd_dtype):\n"
     ]
    },
    {
     "name": "stdout",
     "output_type": "stream",
     "text": [
      " ARIMA(6,0,0)(0,0,0)[0]             : AIC=430.895, Time=0.21 sec\n"
     ]
    },
    {
     "name": "stderr",
     "output_type": "stream",
     "text": [
      "C:\\Users\\sirko\\.conda\\envs\\backend\\Lib\\site-packages\\sklearn\\utils\\validation.py:605: FutureWarning: is_sparse is deprecated and will be removed in a future version. Check `isinstance(dtype, pd.SparseDtype)` instead.\n",
      "  if is_sparse(pd_dtype):\n",
      "C:\\Users\\sirko\\.conda\\envs\\backend\\Lib\\site-packages\\sklearn\\utils\\validation.py:614: FutureWarning: is_sparse is deprecated and will be removed in a future version. Check `isinstance(dtype, pd.SparseDtype)` instead.\n",
      "  if is_sparse(pd_dtype) or not is_extension_array_dtype(pd_dtype):\n"
     ]
    },
    {
     "name": "stdout",
     "output_type": "stream",
     "text": [
      " ARIMA(5,0,1)(0,0,0)[0]             : AIC=411.432, Time=0.93 sec\n"
     ]
    },
    {
     "name": "stderr",
     "output_type": "stream",
     "text": [
      "C:\\Users\\sirko\\.conda\\envs\\backend\\Lib\\site-packages\\sklearn\\utils\\validation.py:605: FutureWarning: is_sparse is deprecated and will be removed in a future version. Check `isinstance(dtype, pd.SparseDtype)` instead.\n",
      "  if is_sparse(pd_dtype):\n",
      "C:\\Users\\sirko\\.conda\\envs\\backend\\Lib\\site-packages\\sklearn\\utils\\validation.py:614: FutureWarning: is_sparse is deprecated and will be removed in a future version. Check `isinstance(dtype, pd.SparseDtype)` instead.\n",
      "  if is_sparse(pd_dtype) or not is_extension_array_dtype(pd_dtype):\n"
     ]
    },
    {
     "name": "stdout",
     "output_type": "stream",
     "text": [
      " ARIMA(4,0,1)(0,0,0)[0]             : AIC=410.138, Time=0.64 sec\n"
     ]
    },
    {
     "name": "stderr",
     "output_type": "stream",
     "text": [
      "C:\\Users\\sirko\\.conda\\envs\\backend\\Lib\\site-packages\\sklearn\\utils\\validation.py:605: FutureWarning: is_sparse is deprecated and will be removed in a future version. Check `isinstance(dtype, pd.SparseDtype)` instead.\n",
      "  if is_sparse(pd_dtype):\n",
      "C:\\Users\\sirko\\.conda\\envs\\backend\\Lib\\site-packages\\sklearn\\utils\\validation.py:614: FutureWarning: is_sparse is deprecated and will be removed in a future version. Check `isinstance(dtype, pd.SparseDtype)` instead.\n",
      "  if is_sparse(pd_dtype) or not is_extension_array_dtype(pd_dtype):\n"
     ]
    },
    {
     "name": "stdout",
     "output_type": "stream",
     "text": [
      " ARIMA(3,0,1)(0,0,0)[0]             : AIC=408.587, Time=0.49 sec\n"
     ]
    },
    {
     "name": "stderr",
     "output_type": "stream",
     "text": [
      "C:\\Users\\sirko\\.conda\\envs\\backend\\Lib\\site-packages\\sklearn\\utils\\validation.py:605: FutureWarning: is_sparse is deprecated and will be removed in a future version. Check `isinstance(dtype, pd.SparseDtype)` instead.\n",
      "  if is_sparse(pd_dtype):\n",
      "C:\\Users\\sirko\\.conda\\envs\\backend\\Lib\\site-packages\\sklearn\\utils\\validation.py:614: FutureWarning: is_sparse is deprecated and will be removed in a future version. Check `isinstance(dtype, pd.SparseDtype)` instead.\n",
      "  if is_sparse(pd_dtype) or not is_extension_array_dtype(pd_dtype):\n"
     ]
    },
    {
     "name": "stdout",
     "output_type": "stream",
     "text": [
      " ARIMA(2,0,1)(0,0,0)[0]             : AIC=406.785, Time=0.35 sec\n"
     ]
    },
    {
     "name": "stderr",
     "output_type": "stream",
     "text": [
      "C:\\Users\\sirko\\.conda\\envs\\backend\\Lib\\site-packages\\sklearn\\utils\\validation.py:605: FutureWarning: is_sparse is deprecated and will be removed in a future version. Check `isinstance(dtype, pd.SparseDtype)` instead.\n",
      "  if is_sparse(pd_dtype):\n",
      "C:\\Users\\sirko\\.conda\\envs\\backend\\Lib\\site-packages\\sklearn\\utils\\validation.py:614: FutureWarning: is_sparse is deprecated and will be removed in a future version. Check `isinstance(dtype, pd.SparseDtype)` instead.\n",
      "  if is_sparse(pd_dtype) or not is_extension_array_dtype(pd_dtype):\n"
     ]
    },
    {
     "name": "stdout",
     "output_type": "stream",
     "text": [
      " ARIMA(1,0,1)(0,0,0)[0]             : AIC=406.138, Time=0.27 sec\n"
     ]
    },
    {
     "name": "stderr",
     "output_type": "stream",
     "text": [
      "C:\\Users\\sirko\\.conda\\envs\\backend\\Lib\\site-packages\\sklearn\\utils\\validation.py:605: FutureWarning: is_sparse is deprecated and will be removed in a future version. Check `isinstance(dtype, pd.SparseDtype)` instead.\n",
      "  if is_sparse(pd_dtype):\n",
      "C:\\Users\\sirko\\.conda\\envs\\backend\\Lib\\site-packages\\sklearn\\utils\\validation.py:614: FutureWarning: is_sparse is deprecated and will be removed in a future version. Check `isinstance(dtype, pd.SparseDtype)` instead.\n",
      "  if is_sparse(pd_dtype) or not is_extension_array_dtype(pd_dtype):\n"
     ]
    },
    {
     "name": "stdout",
     "output_type": "stream",
     "text": [
      " ARIMA(1,0,2)(0,0,0)[0]             : AIC=406.717, Time=0.46 sec\n",
      " ARIMA(0,0,2)(0,0,0)[0]             : AIC=467.055, Time=0.09 sec\n"
     ]
    },
    {
     "name": "stderr",
     "output_type": "stream",
     "text": [
      "C:\\Users\\sirko\\.conda\\envs\\backend\\Lib\\site-packages\\sklearn\\utils\\validation.py:605: FutureWarning: is_sparse is deprecated and will be removed in a future version. Check `isinstance(dtype, pd.SparseDtype)` instead.\n",
      "  if is_sparse(pd_dtype):\n",
      "C:\\Users\\sirko\\.conda\\envs\\backend\\Lib\\site-packages\\sklearn\\utils\\validation.py:614: FutureWarning: is_sparse is deprecated and will be removed in a future version. Check `isinstance(dtype, pd.SparseDtype)` instead.\n",
      "  if is_sparse(pd_dtype) or not is_extension_array_dtype(pd_dtype):\n",
      "C:\\Users\\sirko\\.conda\\envs\\backend\\Lib\\site-packages\\sklearn\\utils\\validation.py:605: FutureWarning: is_sparse is deprecated and will be removed in a future version. Check `isinstance(dtype, pd.SparseDtype)` instead.\n",
      "  if is_sparse(pd_dtype):\n",
      "C:\\Users\\sirko\\.conda\\envs\\backend\\Lib\\site-packages\\sklearn\\utils\\validation.py:614: FutureWarning: is_sparse is deprecated and will be removed in a future version. Check `isinstance(dtype, pd.SparseDtype)` instead.\n",
      "  if is_sparse(pd_dtype) or not is_extension_array_dtype(pd_dtype):\n"
     ]
    },
    {
     "name": "stdout",
     "output_type": "stream",
     "text": [
      " ARIMA(2,0,2)(0,0,0)[0]             : AIC=407.432, Time=0.72 sec\n"
     ]
    },
    {
     "name": "stderr",
     "output_type": "stream",
     "text": [
      "C:\\Users\\sirko\\.conda\\envs\\backend\\Lib\\site-packages\\sklearn\\utils\\validation.py:605: FutureWarning: is_sparse is deprecated and will be removed in a future version. Check `isinstance(dtype, pd.SparseDtype)` instead.\n",
      "  if is_sparse(pd_dtype):\n",
      "C:\\Users\\sirko\\.conda\\envs\\backend\\Lib\\site-packages\\sklearn\\utils\\validation.py:614: FutureWarning: is_sparse is deprecated and will be removed in a future version. Check `isinstance(dtype, pd.SparseDtype)` instead.\n",
      "  if is_sparse(pd_dtype) or not is_extension_array_dtype(pd_dtype):\n"
     ]
    },
    {
     "name": "stdout",
     "output_type": "stream",
     "text": [
      " ARIMA(1,0,1)(0,0,0)[0] intercept   : AIC=402.557, Time=0.39 sec\n",
      " ARIMA(0,0,1)(0,0,0)[0] intercept   : AIC=401.496, Time=0.09 sec\n",
      " ARIMA(0,0,0)(0,0,0)[0] intercept   : AIC=401.559, Time=0.07 sec\n"
     ]
    },
    {
     "name": "stderr",
     "output_type": "stream",
     "text": [
      "C:\\Users\\sirko\\.conda\\envs\\backend\\Lib\\site-packages\\sklearn\\utils\\validation.py:605: FutureWarning: is_sparse is deprecated and will be removed in a future version. Check `isinstance(dtype, pd.SparseDtype)` instead.\n",
      "  if is_sparse(pd_dtype):\n",
      "C:\\Users\\sirko\\.conda\\envs\\backend\\Lib\\site-packages\\sklearn\\utils\\validation.py:614: FutureWarning: is_sparse is deprecated and will be removed in a future version. Check `isinstance(dtype, pd.SparseDtype)` instead.\n",
      "  if is_sparse(pd_dtype) or not is_extension_array_dtype(pd_dtype):\n",
      "C:\\Users\\sirko\\.conda\\envs\\backend\\Lib\\site-packages\\sklearn\\utils\\validation.py:605: FutureWarning: is_sparse is deprecated and will be removed in a future version. Check `isinstance(dtype, pd.SparseDtype)` instead.\n",
      "  if is_sparse(pd_dtype):\n",
      "C:\\Users\\sirko\\.conda\\envs\\backend\\Lib\\site-packages\\sklearn\\utils\\validation.py:614: FutureWarning: is_sparse is deprecated and will be removed in a future version. Check `isinstance(dtype, pd.SparseDtype)` instead.\n",
      "  if is_sparse(pd_dtype) or not is_extension_array_dtype(pd_dtype):\n",
      "C:\\Users\\sirko\\.conda\\envs\\backend\\Lib\\site-packages\\sklearn\\utils\\validation.py:605: FutureWarning: is_sparse is deprecated and will be removed in a future version. Check `isinstance(dtype, pd.SparseDtype)` instead.\n",
      "  if is_sparse(pd_dtype):\n",
      "C:\\Users\\sirko\\.conda\\envs\\backend\\Lib\\site-packages\\sklearn\\utils\\validation.py:614: FutureWarning: is_sparse is deprecated and will be removed in a future version. Check `isinstance(dtype, pd.SparseDtype)` instead.\n",
      "  if is_sparse(pd_dtype) or not is_extension_array_dtype(pd_dtype):\n"
     ]
    },
    {
     "name": "stdout",
     "output_type": "stream",
     "text": [
      " ARIMA(0,0,2)(0,0,0)[0] intercept   : AIC=403.450, Time=0.13 sec\n",
      " ARIMA(1,0,0)(0,0,0)[0] intercept   : AIC=401.544, Time=0.06 sec\n"
     ]
    },
    {
     "name": "stderr",
     "output_type": "stream",
     "text": [
      "C:\\Users\\sirko\\.conda\\envs\\backend\\Lib\\site-packages\\sklearn\\utils\\validation.py:605: FutureWarning: is_sparse is deprecated and will be removed in a future version. Check `isinstance(dtype, pd.SparseDtype)` instead.\n",
      "  if is_sparse(pd_dtype):\n",
      "C:\\Users\\sirko\\.conda\\envs\\backend\\Lib\\site-packages\\sklearn\\utils\\validation.py:614: FutureWarning: is_sparse is deprecated and will be removed in a future version. Check `isinstance(dtype, pd.SparseDtype)` instead.\n",
      "  if is_sparse(pd_dtype) or not is_extension_array_dtype(pd_dtype):\n",
      "C:\\Users\\sirko\\.conda\\envs\\backend\\Lib\\site-packages\\sklearn\\utils\\validation.py:605: FutureWarning: is_sparse is deprecated and will be removed in a future version. Check `isinstance(dtype, pd.SparseDtype)` instead.\n",
      "  if is_sparse(pd_dtype):\n",
      "C:\\Users\\sirko\\.conda\\envs\\backend\\Lib\\site-packages\\sklearn\\utils\\validation.py:614: FutureWarning: is_sparse is deprecated and will be removed in a future version. Check `isinstance(dtype, pd.SparseDtype)` instead.\n",
      "  if is_sparse(pd_dtype) or not is_extension_array_dtype(pd_dtype):\n"
     ]
    },
    {
     "name": "stdout",
     "output_type": "stream",
     "text": [
      " ARIMA(1,0,2)(0,0,0)[0] intercept   : AIC=403.553, Time=0.86 sec\n",
      "\n",
      "Best model:  ARIMA(0,0,1)(0,0,0)[0] intercept\n",
      "Total fit time: 6.527 seconds\n"
     ]
    }
   ],
   "source": [
    "model = pm.auto_arima(train_data['is_earthquake'],\n",
    "                      # m=12,               # frequency of series\n",
    "                      seasonal=False,  # TRUE if seasonal series\n",
    "                      d=None,             # let model determine 'd'\n",
    "                      test='adf',         # use adftest to find optimal 'd'\n",
    "                      start_p=0, start_q=0, # minimum p and q\n",
    "                      max_p=12, max_q=12, # maximum p and q\n",
    "                      D=None,             # let model determine 'D'\n",
    "                      trace=True,\n",
    "                      error_action='ignore',\n",
    "                      suppress_warnings=True,\n",
    "                      stepwise=True)"
   ],
   "metadata": {
    "collapsed": false
   }
  },
  {
   "cell_type": "code",
   "execution_count": 141,
   "outputs": [
    {
     "name": "stdout",
     "output_type": "stream",
     "text": [
      "                               SARIMAX Results                                \n",
      "==============================================================================\n",
      "Dep. Variable:                      y   No. Observations:                  364\n",
      "Model:               SARIMAX(0, 0, 1)   Log Likelihood                -197.748\n",
      "Date:                Sat, 20 Apr 2024   AIC                            401.496\n",
      "Time:                        19:37:43   BIC                            413.188\n",
      "Sample:                             0   HQIC                           406.143\n",
      "                                - 364                                         \n",
      "Covariance Type:                  opg                                         \n",
      "==============================================================================\n",
      "                 coef    std err          z      P>|z|      [0.025      0.975]\n",
      "------------------------------------------------------------------------------\n",
      "intercept      0.2254      0.331      0.681      0.496      -0.423       0.874\n",
      "ma.L1          0.0766      0.098      0.779      0.436      -0.116       0.269\n",
      "sigma2         0.1735      0.194      0.895      0.371      -0.206       0.553\n",
      "===================================================================================\n",
      "Ljung-Box (L1) (Q):                   0.00   Jarque-Bera (JB):               104.35\n",
      "Prob(Q):                              0.99   Prob(JB):                         0.00\n",
      "Heteroskedasticity (H):               0.61   Skew:                             1.30\n",
      "Prob(H) (two-sided):                  0.01   Kurtosis:                         2.74\n",
      "===================================================================================\n",
      "\n",
      "Warnings:\n",
      "[1] Covariance matrix calculated using the outer product of gradients (complex-step).\n"
     ]
    }
   ],
   "source": [
    "print(model.summary())"
   ],
   "metadata": {
    "collapsed": false
   }
  },
  {
   "cell_type": "code",
   "execution_count": 145,
   "outputs": [
    {
     "name": "stderr",
     "output_type": "stream",
     "text": [
      "C:\\Users\\sirko\\.conda\\envs\\backend\\Lib\\site-packages\\statsmodels\\tsa\\base\\tsa_model.py:836: ValueWarning: No supported index is available. Prediction results will be given with an integer index beginning at `start`.\n",
      "  return get_prediction_index(\n",
      "C:\\Users\\sirko\\.conda\\envs\\backend\\Lib\\site-packages\\statsmodels\\tsa\\base\\tsa_model.py:836: FutureWarning: No supported index is available. In the next version, calling this method in a model without a supported index will result in an exception.\n",
      "  return get_prediction_index(\n",
      "C:\\Users\\sirko\\.conda\\envs\\backend\\Lib\\site-packages\\sklearn\\utils\\validation.py:605: FutureWarning: is_sparse is deprecated and will be removed in a future version. Check `isinstance(dtype, pd.SparseDtype)` instead.\n",
      "  if is_sparse(pd_dtype):\n",
      "C:\\Users\\sirko\\.conda\\envs\\backend\\Lib\\site-packages\\sklearn\\utils\\validation.py:614: FutureWarning: is_sparse is deprecated and will be removed in a future version. Check `isinstance(dtype, pd.SparseDtype)` instead.\n",
      "  if is_sparse(pd_dtype) or not is_extension_array_dtype(pd_dtype):\n",
      "C:\\Users\\sirko\\.conda\\envs\\backend\\Lib\\site-packages\\sklearn\\utils\\validation.py:767: FutureWarning: is_sparse is deprecated and will be removed in a future version. Check `isinstance(dtype, pd.SparseDtype)` instead.\n",
      "  if not hasattr(array, \"sparse\") and array.dtypes.apply(is_sparse).any():\n",
      "C:\\Users\\sirko\\.conda\\envs\\backend\\Lib\\site-packages\\sklearn\\utils\\validation.py:605: FutureWarning: is_sparse is deprecated and will be removed in a future version. Check `isinstance(dtype, pd.SparseDtype)` instead.\n",
      "  if is_sparse(pd_dtype):\n",
      "C:\\Users\\sirko\\.conda\\envs\\backend\\Lib\\site-packages\\sklearn\\utils\\validation.py:614: FutureWarning: is_sparse is deprecated and will be removed in a future version. Check `isinstance(dtype, pd.SparseDtype)` instead.\n",
      "  if is_sparse(pd_dtype) or not is_extension_array_dtype(pd_dtype):\n"
     ]
    }
   ],
   "source": [
    "predicted, confint = model.predict(n_periods=59, return_conf_int=True)"
   ],
   "metadata": {
    "collapsed": false
   }
  },
  {
   "cell_type": "code",
   "execution_count": 146,
   "outputs": [
    {
     "data": {
      "text/plain": "364    0.285943\n365    0.225392\n366    0.225392\n367    0.225392\n368    0.225392\n369    0.225392\n370    0.225392\n371    0.225392\n372    0.225392\n373    0.225392\n374    0.225392\n375    0.225392\n376    0.225392\n377    0.225392\n378    0.225392\n379    0.225392\n380    0.225392\n381    0.225392\n382    0.225392\n383    0.225392\n384    0.225392\n385    0.225392\n386    0.225392\n387    0.225392\n388    0.225392\n389    0.225392\n390    0.225392\n391    0.225392\n392    0.225392\n393    0.225392\n394    0.225392\n395    0.225392\n396    0.225392\n397    0.225392\n398    0.225392\n399    0.225392\n400    0.225392\n401    0.225392\n402    0.225392\n403    0.225392\n404    0.225392\n405    0.225392\n406    0.225392\n407    0.225392\n408    0.225392\n409    0.225392\n410    0.225392\n411    0.225392\n412    0.225392\n413    0.225392\n414    0.225392\n415    0.225392\n416    0.225392\n417    0.225392\n418    0.225392\n419    0.225392\n420    0.225392\n421    0.225392\n422    0.225392\ndtype: float64"
     },
     "execution_count": 146,
     "metadata": {},
     "output_type": "execute_result"
    }
   ],
   "source": [
    "predicted"
   ],
   "metadata": {
    "collapsed": false
   }
  },
  {
   "cell_type": "code",
   "execution_count": 144,
   "outputs": [
    {
     "data": {
      "text/plain": "           date   mag  is_earthquake\n9842 2022-01-01  0.00              0\n9843 2022-01-02  0.00              0\n9844 2022-01-03  0.00              0\n9845 2022-01-04  0.00              0\n9846 2022-01-05  0.00              0\n9847 2022-01-06  0.00              0\n9848 2022-01-07  0.00              0\n9849 2022-01-08  0.00              0\n9850 2022-01-09  3.21              1\n9851 2022-01-10  0.00              0\n9852 2022-01-11  0.00              0\n9853 2022-01-12  0.00              0\n9854 2022-01-13  3.86              1\n9855 2022-01-14  0.00              0\n9856 2022-01-15  0.00              0\n9857 2022-01-16  0.00              0\n9858 2022-01-17  0.00              0\n9859 2022-01-18  3.45              1\n9860 2022-01-19  0.00              0\n9861 2022-01-20  0.00              0\n9862 2022-01-21  0.00              0\n9863 2022-01-22  3.01              1\n9864 2022-01-23  3.21              1\n9865 2022-01-24  0.00              0\n9866 2022-01-25  0.00              0\n9867 2022-01-26  0.00              0\n9868 2022-01-27  0.00              0\n9869 2022-01-28  0.00              0\n9870 2022-01-29  0.00              0\n9871 2022-01-30  4.00              1\n9872 2022-01-31  0.00              0\n9873 2022-02-01  3.26              1\n9874 2022-02-02  0.00              0\n9875 2022-02-03  0.00              0\n9876 2022-02-04  0.00              0\n9877 2022-02-05  0.00              0\n9878 2022-02-06  0.00              0\n9879 2022-02-07  3.62              1\n9880 2022-02-08  0.00              0\n9881 2022-02-09  0.00              0\n9882 2022-02-10  0.00              0\n9883 2022-02-11  0.00              0\n9884 2022-02-12  0.00              0\n9885 2022-02-13  0.00              0\n9886 2022-02-14  3.17              1\n9887 2022-02-15  0.00              0\n9888 2022-02-16  0.00              0\n9889 2022-02-17  0.00              0\n9890 2022-02-18  0.00              0\n9891 2022-02-19  0.00              0\n9892 2022-02-20  0.00              0\n9893 2022-02-21  0.00              0\n9894 2022-02-22  0.00              0\n9895 2022-02-23  0.00              0\n9896 2022-02-24  0.00              0\n9897 2022-02-25  0.00              0\n9898 2022-02-26  0.00              0\n9899 2022-02-27  0.00              0\n9900 2022-02-28  0.00              0",
      "text/html": "<div>\n<style scoped>\n    .dataframe tbody tr th:only-of-type {\n        vertical-align: middle;\n    }\n\n    .dataframe tbody tr th {\n        vertical-align: top;\n    }\n\n    .dataframe thead th {\n        text-align: right;\n    }\n</style>\n<table border=\"1\" class=\"dataframe\">\n  <thead>\n    <tr style=\"text-align: right;\">\n      <th></th>\n      <th>date</th>\n      <th>mag</th>\n      <th>is_earthquake</th>\n    </tr>\n  </thead>\n  <tbody>\n    <tr>\n      <th>9842</th>\n      <td>2022-01-01</td>\n      <td>0.00</td>\n      <td>0</td>\n    </tr>\n    <tr>\n      <th>9843</th>\n      <td>2022-01-02</td>\n      <td>0.00</td>\n      <td>0</td>\n    </tr>\n    <tr>\n      <th>9844</th>\n      <td>2022-01-03</td>\n      <td>0.00</td>\n      <td>0</td>\n    </tr>\n    <tr>\n      <th>9845</th>\n      <td>2022-01-04</td>\n      <td>0.00</td>\n      <td>0</td>\n    </tr>\n    <tr>\n      <th>9846</th>\n      <td>2022-01-05</td>\n      <td>0.00</td>\n      <td>0</td>\n    </tr>\n    <tr>\n      <th>9847</th>\n      <td>2022-01-06</td>\n      <td>0.00</td>\n      <td>0</td>\n    </tr>\n    <tr>\n      <th>9848</th>\n      <td>2022-01-07</td>\n      <td>0.00</td>\n      <td>0</td>\n    </tr>\n    <tr>\n      <th>9849</th>\n      <td>2022-01-08</td>\n      <td>0.00</td>\n      <td>0</td>\n    </tr>\n    <tr>\n      <th>9850</th>\n      <td>2022-01-09</td>\n      <td>3.21</td>\n      <td>1</td>\n    </tr>\n    <tr>\n      <th>9851</th>\n      <td>2022-01-10</td>\n      <td>0.00</td>\n      <td>0</td>\n    </tr>\n    <tr>\n      <th>9852</th>\n      <td>2022-01-11</td>\n      <td>0.00</td>\n      <td>0</td>\n    </tr>\n    <tr>\n      <th>9853</th>\n      <td>2022-01-12</td>\n      <td>0.00</td>\n      <td>0</td>\n    </tr>\n    <tr>\n      <th>9854</th>\n      <td>2022-01-13</td>\n      <td>3.86</td>\n      <td>1</td>\n    </tr>\n    <tr>\n      <th>9855</th>\n      <td>2022-01-14</td>\n      <td>0.00</td>\n      <td>0</td>\n    </tr>\n    <tr>\n      <th>9856</th>\n      <td>2022-01-15</td>\n      <td>0.00</td>\n      <td>0</td>\n    </tr>\n    <tr>\n      <th>9857</th>\n      <td>2022-01-16</td>\n      <td>0.00</td>\n      <td>0</td>\n    </tr>\n    <tr>\n      <th>9858</th>\n      <td>2022-01-17</td>\n      <td>0.00</td>\n      <td>0</td>\n    </tr>\n    <tr>\n      <th>9859</th>\n      <td>2022-01-18</td>\n      <td>3.45</td>\n      <td>1</td>\n    </tr>\n    <tr>\n      <th>9860</th>\n      <td>2022-01-19</td>\n      <td>0.00</td>\n      <td>0</td>\n    </tr>\n    <tr>\n      <th>9861</th>\n      <td>2022-01-20</td>\n      <td>0.00</td>\n      <td>0</td>\n    </tr>\n    <tr>\n      <th>9862</th>\n      <td>2022-01-21</td>\n      <td>0.00</td>\n      <td>0</td>\n    </tr>\n    <tr>\n      <th>9863</th>\n      <td>2022-01-22</td>\n      <td>3.01</td>\n      <td>1</td>\n    </tr>\n    <tr>\n      <th>9864</th>\n      <td>2022-01-23</td>\n      <td>3.21</td>\n      <td>1</td>\n    </tr>\n    <tr>\n      <th>9865</th>\n      <td>2022-01-24</td>\n      <td>0.00</td>\n      <td>0</td>\n    </tr>\n    <tr>\n      <th>9866</th>\n      <td>2022-01-25</td>\n      <td>0.00</td>\n      <td>0</td>\n    </tr>\n    <tr>\n      <th>9867</th>\n      <td>2022-01-26</td>\n      <td>0.00</td>\n      <td>0</td>\n    </tr>\n    <tr>\n      <th>9868</th>\n      <td>2022-01-27</td>\n      <td>0.00</td>\n      <td>0</td>\n    </tr>\n    <tr>\n      <th>9869</th>\n      <td>2022-01-28</td>\n      <td>0.00</td>\n      <td>0</td>\n    </tr>\n    <tr>\n      <th>9870</th>\n      <td>2022-01-29</td>\n      <td>0.00</td>\n      <td>0</td>\n    </tr>\n    <tr>\n      <th>9871</th>\n      <td>2022-01-30</td>\n      <td>4.00</td>\n      <td>1</td>\n    </tr>\n    <tr>\n      <th>9872</th>\n      <td>2022-01-31</td>\n      <td>0.00</td>\n      <td>0</td>\n    </tr>\n    <tr>\n      <th>9873</th>\n      <td>2022-02-01</td>\n      <td>3.26</td>\n      <td>1</td>\n    </tr>\n    <tr>\n      <th>9874</th>\n      <td>2022-02-02</td>\n      <td>0.00</td>\n      <td>0</td>\n    </tr>\n    <tr>\n      <th>9875</th>\n      <td>2022-02-03</td>\n      <td>0.00</td>\n      <td>0</td>\n    </tr>\n    <tr>\n      <th>9876</th>\n      <td>2022-02-04</td>\n      <td>0.00</td>\n      <td>0</td>\n    </tr>\n    <tr>\n      <th>9877</th>\n      <td>2022-02-05</td>\n      <td>0.00</td>\n      <td>0</td>\n    </tr>\n    <tr>\n      <th>9878</th>\n      <td>2022-02-06</td>\n      <td>0.00</td>\n      <td>0</td>\n    </tr>\n    <tr>\n      <th>9879</th>\n      <td>2022-02-07</td>\n      <td>3.62</td>\n      <td>1</td>\n    </tr>\n    <tr>\n      <th>9880</th>\n      <td>2022-02-08</td>\n      <td>0.00</td>\n      <td>0</td>\n    </tr>\n    <tr>\n      <th>9881</th>\n      <td>2022-02-09</td>\n      <td>0.00</td>\n      <td>0</td>\n    </tr>\n    <tr>\n      <th>9882</th>\n      <td>2022-02-10</td>\n      <td>0.00</td>\n      <td>0</td>\n    </tr>\n    <tr>\n      <th>9883</th>\n      <td>2022-02-11</td>\n      <td>0.00</td>\n      <td>0</td>\n    </tr>\n    <tr>\n      <th>9884</th>\n      <td>2022-02-12</td>\n      <td>0.00</td>\n      <td>0</td>\n    </tr>\n    <tr>\n      <th>9885</th>\n      <td>2022-02-13</td>\n      <td>0.00</td>\n      <td>0</td>\n    </tr>\n    <tr>\n      <th>9886</th>\n      <td>2022-02-14</td>\n      <td>3.17</td>\n      <td>1</td>\n    </tr>\n    <tr>\n      <th>9887</th>\n      <td>2022-02-15</td>\n      <td>0.00</td>\n      <td>0</td>\n    </tr>\n    <tr>\n      <th>9888</th>\n      <td>2022-02-16</td>\n      <td>0.00</td>\n      <td>0</td>\n    </tr>\n    <tr>\n      <th>9889</th>\n      <td>2022-02-17</td>\n      <td>0.00</td>\n      <td>0</td>\n    </tr>\n    <tr>\n      <th>9890</th>\n      <td>2022-02-18</td>\n      <td>0.00</td>\n      <td>0</td>\n    </tr>\n    <tr>\n      <th>9891</th>\n      <td>2022-02-19</td>\n      <td>0.00</td>\n      <td>0</td>\n    </tr>\n    <tr>\n      <th>9892</th>\n      <td>2022-02-20</td>\n      <td>0.00</td>\n      <td>0</td>\n    </tr>\n    <tr>\n      <th>9893</th>\n      <td>2022-02-21</td>\n      <td>0.00</td>\n      <td>0</td>\n    </tr>\n    <tr>\n      <th>9894</th>\n      <td>2022-02-22</td>\n      <td>0.00</td>\n      <td>0</td>\n    </tr>\n    <tr>\n      <th>9895</th>\n      <td>2022-02-23</td>\n      <td>0.00</td>\n      <td>0</td>\n    </tr>\n    <tr>\n      <th>9896</th>\n      <td>2022-02-24</td>\n      <td>0.00</td>\n      <td>0</td>\n    </tr>\n    <tr>\n      <th>9897</th>\n      <td>2022-02-25</td>\n      <td>0.00</td>\n      <td>0</td>\n    </tr>\n    <tr>\n      <th>9898</th>\n      <td>2022-02-26</td>\n      <td>0.00</td>\n      <td>0</td>\n    </tr>\n    <tr>\n      <th>9899</th>\n      <td>2022-02-27</td>\n      <td>0.00</td>\n      <td>0</td>\n    </tr>\n    <tr>\n      <th>9900</th>\n      <td>2022-02-28</td>\n      <td>0.00</td>\n      <td>0</td>\n    </tr>\n  </tbody>\n</table>\n</div>"
     },
     "execution_count": 144,
     "metadata": {},
     "output_type": "execute_result"
    }
   ],
   "source": [
    "test_data"
   ],
   "metadata": {
    "collapsed": false
   }
  },
  {
   "cell_type": "code",
   "execution_count": 152,
   "outputs": [
    {
     "data": {
      "text/plain": "<matplotlib.legend.Legend at 0x12ebaa1cc90>"
     },
     "execution_count": 152,
     "metadata": {},
     "output_type": "execute_result"
    },
    {
     "data": {
      "text/plain": "<Figure size 2000x300 with 1 Axes>",
      "image/png": "[encoded data removed]"
     },
     "metadata": {},
     "output_type": "display_data"
    }
   ],
   "source": [
    "days = test_data['date']\n",
    "plt.scatter(days, predicted, label='predicted')\n",
    "plt.scatter(days, test_data['is_earthquake'], label='true values')\n",
    "plt.legend()"
   ],
   "metadata": {
    "collapsed": false
   }
  }
 ],
 "metadata": {
  "kernelspec": {
   "display_name": "Python 3",
   "language": "python",
   "name": "python3"
  },
  "language_info": {
   "codemirror_mode": {
    "name": "ipython",
    "version": 2
   },
   "file_extension": ".py",
   "mimetype": "text/x-python",
   "name": "python",
   "nbconvert_exporter": "python",
   "pygments_lexer": "ipython2",
   "version": "2.7.6"
  }
 },
 "nbformat": 4,
 "nbformat_minor": 0
}
